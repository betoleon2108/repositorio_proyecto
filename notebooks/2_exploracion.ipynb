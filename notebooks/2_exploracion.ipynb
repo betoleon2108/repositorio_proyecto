{
 "cells": [
  {
   "cell_type": "code",
   "execution_count": 5,
   "id": "33b0a709-9120-4fdc-b640-46e4cbc7f3ff",
   "metadata": {},
   "outputs": [],
   "source": [
    "%matplotlib inline\n",
    "import pandas as pd"
   ]
  },
  {
   "cell_type": "code",
   "execution_count": 76,
   "id": "41fda62c-2039-437a-a6d5-6ad4af4ff44f",
   "metadata": {},
   "outputs": [],
   "source": [
    "compras_df = pd.read_csv('data/clean_compras.csv')"
   ]
  },
  {
   "cell_type": "code",
   "execution_count": 77,
   "id": "bcfcae35-6a1a-499a-a373-0f32d4156771",
   "metadata": {},
   "outputs": [
    {
     "data": {
      "text/html": [
       "<div>\n",
       "<style scoped>\n",
       "    .dataframe tbody tr th:only-of-type {\n",
       "        vertical-align: middle;\n",
       "    }\n",
       "\n",
       "    .dataframe tbody tr th {\n",
       "        vertical-align: top;\n",
       "    }\n",
       "\n",
       "    .dataframe thead th {\n",
       "        text-align: right;\n",
       "    }\n",
       "</style>\n",
       "<table border=\"1\" class=\"dataframe\">\n",
       "  <thead>\n",
       "    <tr style=\"text-align: right;\">\n",
       "      <th></th>\n",
       "      <th>NUM BEN</th>\n",
       "      <th>BENEFICIARIO</th>\n",
       "      <th>RFC</th>\n",
       "      <th>FACTURA</th>\n",
       "      <th>CONTRATO</th>\n",
       "      <th>CONCEPTO</th>\n",
       "      <th>TIPO</th>\n",
       "      <th># OP</th>\n",
       "      <th>FECHA</th>\n",
       "      <th>IMPORTE</th>\n",
       "      <th>SHEET</th>\n",
       "    </tr>\n",
       "  </thead>\n",
       "  <tbody>\n",
       "    <tr>\n",
       "      <th>0</th>\n",
       "      <td>110152</td>\n",
       "      <td>LLANTAS Y SERVICIOS SERNA ANAHUAC,S.A. DE C.V.</td>\n",
       "      <td>LSS841015DV3</td>\n",
       "      <td>LLS AF8458-158008-3972</td>\n",
       "      <td>OT. 20204373</td>\n",
       "      <td>REEMPLAZO E INSTALACION DE AMORTIGUADORES (DEL...</td>\n",
       "      <td>TR</td>\n",
       "      <td>1019110.0</td>\n",
       "      <td>2020-12-11</td>\n",
       "      <td>14911.80</td>\n",
       "      <td>GASTOS VARIOS</td>\n",
       "    </tr>\n",
       "    <tr>\n",
       "      <th>1</th>\n",
       "      <td>110152</td>\n",
       "      <td>LLANTAS Y SERVICIOS SERNA ANAHUAC,S.A. DE C.V.</td>\n",
       "      <td>LSS841015DV3</td>\n",
       "      <td>LLS PF6916-158008-4041</td>\n",
       "      <td>OT. 20204425</td>\n",
       "      <td>REEMPLAZO E INSTALACION DE OCHO BIRLOS Y NUEVE...</td>\n",
       "      <td>TR</td>\n",
       "      <td>1019110.0</td>\n",
       "      <td>2020-12-11</td>\n",
       "      <td>2528.80</td>\n",
       "      <td>GASTOS VARIOS</td>\n",
       "    </tr>\n",
       "    <tr>\n",
       "      <th>2</th>\n",
       "      <td>110152</td>\n",
       "      <td>LLANTAS Y SERVICIOS SERNA ANAHUAC,S.A. DE C.V.</td>\n",
       "      <td>LSS841015DV3</td>\n",
       "      <td>LLS PF6917-158008-3975</td>\n",
       "      <td>OT. 20204376</td>\n",
       "      <td>REEMPLAZO DE DOS RINES  (17). PATRIMONIO 80383...</td>\n",
       "      <td>TR</td>\n",
       "      <td>1019110.0</td>\n",
       "      <td>2020-12-11</td>\n",
       "      <td>8500.02</td>\n",
       "      <td>GASTOS VARIOS</td>\n",
       "    </tr>\n",
       "    <tr>\n",
       "      <th>3</th>\n",
       "      <td>110152</td>\n",
       "      <td>LLANTAS Y SERVICIOS SERNA ANAHUAC,S.A. DE C.V.</td>\n",
       "      <td>LSS841015DV3</td>\n",
       "      <td>LLS PF7004-158008-3971</td>\n",
       "      <td>OT. 20204374</td>\n",
       "      <td>REEMPLAZO DE  DOS RINES  (14). PATRIMONIO 8007...</td>\n",
       "      <td>TR</td>\n",
       "      <td>1019110.0</td>\n",
       "      <td>2020-12-11</td>\n",
       "      <td>2400.01</td>\n",
       "      <td>GASTOS VARIOS</td>\n",
       "    </tr>\n",
       "    <tr>\n",
       "      <th>4</th>\n",
       "      <td>110152</td>\n",
       "      <td>LLANTAS Y SERVICIOS SERNA ANAHUAC,S.A. DE C.V.</td>\n",
       "      <td>LSS841015DV3</td>\n",
       "      <td>LLS PF7137-158008-4554</td>\n",
       "      <td>OT. 20205130</td>\n",
       "      <td>REEMPLAZO E INSTALACION DE RIN 14. PATRIMONIO ...</td>\n",
       "      <td>TR</td>\n",
       "      <td>299001496.0</td>\n",
       "      <td>2020-12-23</td>\n",
       "      <td>1537.00</td>\n",
       "      <td>GASTOS VARIOS</td>\n",
       "    </tr>\n",
       "  </tbody>\n",
       "</table>\n",
       "</div>"
      ],
      "text/plain": [
       "   NUM BEN                                    BENEFICIARIO           RFC  \\\n",
       "0   110152  LLANTAS Y SERVICIOS SERNA ANAHUAC,S.A. DE C.V.  LSS841015DV3   \n",
       "1   110152  LLANTAS Y SERVICIOS SERNA ANAHUAC,S.A. DE C.V.  LSS841015DV3   \n",
       "2   110152  LLANTAS Y SERVICIOS SERNA ANAHUAC,S.A. DE C.V.  LSS841015DV3   \n",
       "3   110152  LLANTAS Y SERVICIOS SERNA ANAHUAC,S.A. DE C.V.  LSS841015DV3   \n",
       "4   110152  LLANTAS Y SERVICIOS SERNA ANAHUAC,S.A. DE C.V.  LSS841015DV3   \n",
       "\n",
       "                  FACTURA      CONTRATO  \\\n",
       "0  LLS AF8458-158008-3972  OT. 20204373   \n",
       "1  LLS PF6916-158008-4041  OT. 20204425   \n",
       "2  LLS PF6917-158008-3975  OT. 20204376   \n",
       "3  LLS PF7004-158008-3971  OT. 20204374   \n",
       "4  LLS PF7137-158008-4554  OT. 20205130   \n",
       "\n",
       "                                            CONCEPTO TIPO         # OP  \\\n",
       "0  REEMPLAZO E INSTALACION DE AMORTIGUADORES (DEL...   TR    1019110.0   \n",
       "1  REEMPLAZO E INSTALACION DE OCHO BIRLOS Y NUEVE...   TR    1019110.0   \n",
       "2  REEMPLAZO DE DOS RINES  (17). PATRIMONIO 80383...   TR    1019110.0   \n",
       "3  REEMPLAZO DE  DOS RINES  (14). PATRIMONIO 8007...   TR    1019110.0   \n",
       "4  REEMPLAZO E INSTALACION DE RIN 14. PATRIMONIO ...   TR  299001496.0   \n",
       "\n",
       "        FECHA   IMPORTE          SHEET  \n",
       "0  2020-12-11  14911.80  GASTOS VARIOS  \n",
       "1  2020-12-11   2528.80  GASTOS VARIOS  \n",
       "2  2020-12-11   8500.02  GASTOS VARIOS  \n",
       "3  2020-12-11   2400.01  GASTOS VARIOS  \n",
       "4  2020-12-23   1537.00  GASTOS VARIOS  "
      ]
     },
     "execution_count": 77,
     "metadata": {},
     "output_type": "execute_result"
    }
   ],
   "source": [
    "compras_df.head(5)"
   ]
  },
  {
   "cell_type": "markdown",
   "id": "9f581612-604e-4e8d-ac17-eea1dd8191d6",
   "metadata": {
    "tags": []
   },
   "source": [
    "## Visión general del dataset\n"
   ]
  },
  {
   "cell_type": "code",
   "execution_count": 8,
   "id": "b2a6bb53-1c19-428c-99b3-d3207d2b6fbf",
   "metadata": {},
   "outputs": [
    {
     "data": {
      "text/plain": [
       "Index(['NUM BEN', 'BENEFICIARIO', 'RFC', 'FACTURA', 'CONTRATO', 'CONCEPTO',\n",
       "       'TIPO', '# OP', 'FECHA', 'IMPORTE', 'SHEET'],\n",
       "      dtype='object')"
      ]
     },
     "execution_count": 8,
     "metadata": {},
     "output_type": "execute_result"
    }
   ],
   "source": [
    "compras_df.columns"
   ]
  },
  {
   "cell_type": "code",
   "execution_count": 9,
   "id": "274caa04-dcfa-48bd-9607-a9f45d5f7647",
   "metadata": {},
   "outputs": [
    {
     "data": {
      "text/plain": [
       "NUM BEN           int64\n",
       "BENEFICIARIO     object\n",
       "RFC              object\n",
       "FACTURA          object\n",
       "CONTRATO         object\n",
       "CONCEPTO         object\n",
       "TIPO             object\n",
       "# OP            float64\n",
       "FECHA            object\n",
       "IMPORTE         float64\n",
       "SHEET            object\n",
       "dtype: object"
      ]
     },
     "execution_count": 9,
     "metadata": {},
     "output_type": "execute_result"
    }
   ],
   "source": [
    "compras_df.dtypes"
   ]
  },
  {
   "cell_type": "code",
   "execution_count": 46,
   "id": "812b0197-ce09-4fc5-91e7-739d030819e1",
   "metadata": {},
   "outputs": [
    {
     "data": {
      "text/html": [
       "<div>\n",
       "<style scoped>\n",
       "    .dataframe tbody tr th:only-of-type {\n",
       "        vertical-align: middle;\n",
       "    }\n",
       "\n",
       "    .dataframe tbody tr th {\n",
       "        vertical-align: top;\n",
       "    }\n",
       "\n",
       "    .dataframe thead th {\n",
       "        text-align: right;\n",
       "    }\n",
       "</style>\n",
       "<table border=\"1\" class=\"dataframe\">\n",
       "  <thead>\n",
       "    <tr style=\"text-align: right;\">\n",
       "      <th></th>\n",
       "      <th>NUM BEN</th>\n",
       "      <th># OP</th>\n",
       "      <th>IMPORTE</th>\n",
       "    </tr>\n",
       "  </thead>\n",
       "  <tbody>\n",
       "    <tr>\n",
       "      <th>count</th>\n",
       "      <td>1540.000000</td>\n",
       "      <td>1.540000e+03</td>\n",
       "      <td>1.540000e+03</td>\n",
       "    </tr>\n",
       "    <tr>\n",
       "      <th>mean</th>\n",
       "      <td>203914.777273</td>\n",
       "      <td>1.920050e+08</td>\n",
       "      <td>6.263179e+05</td>\n",
       "    </tr>\n",
       "    <tr>\n",
       "      <th>std</th>\n",
       "      <td>92435.932025</td>\n",
       "      <td>1.411189e+08</td>\n",
       "      <td>4.666912e+06</td>\n",
       "    </tr>\n",
       "    <tr>\n",
       "      <th>min</th>\n",
       "      <td>110152.000000</td>\n",
       "      <td>1.019042e+06</td>\n",
       "      <td>8.600000e-01</td>\n",
       "    </tr>\n",
       "    <tr>\n",
       "      <th>25%</th>\n",
       "      <td>116223.000000</td>\n",
       "      <td>1.019144e+06</td>\n",
       "      <td>2.987000e+03</td>\n",
       "    </tr>\n",
       "    <tr>\n",
       "      <th>50%</th>\n",
       "      <td>203013.000000</td>\n",
       "      <td>2.980000e+08</td>\n",
       "      <td>1.235584e+04</td>\n",
       "    </tr>\n",
       "    <tr>\n",
       "      <th>75%</th>\n",
       "      <td>311250.000000</td>\n",
       "      <td>3.000001e+08</td>\n",
       "      <td>1.130583e+05</td>\n",
       "    </tr>\n",
       "    <tr>\n",
       "      <th>max</th>\n",
       "      <td>370012.000000</td>\n",
       "      <td>6.040001e+08</td>\n",
       "      <td>1.267303e+08</td>\n",
       "    </tr>\n",
       "  </tbody>\n",
       "</table>\n",
       "</div>"
      ],
      "text/plain": [
       "             NUM BEN          # OP       IMPORTE\n",
       "count    1540.000000  1.540000e+03  1.540000e+03\n",
       "mean   203914.777273  1.920050e+08  6.263179e+05\n",
       "std     92435.932025  1.411189e+08  4.666912e+06\n",
       "min    110152.000000  1.019042e+06  8.600000e-01\n",
       "25%    116223.000000  1.019144e+06  2.987000e+03\n",
       "50%    203013.000000  2.980000e+08  1.235584e+04\n",
       "75%    311250.000000  3.000001e+08  1.130583e+05\n",
       "max    370012.000000  6.040001e+08  1.267303e+08"
      ]
     },
     "execution_count": 46,
     "metadata": {},
     "output_type": "execute_result"
    }
   ],
   "source": [
    "compras_df.describe()"
   ]
  },
  {
   "cell_type": "code",
   "execution_count": null,
   "id": "7489c80d-3d35-4237-8726-c435485378ba",
   "metadata": {},
   "outputs": [],
   "source": [
    "compras_df = compras_df[['BENEFICIARIO', 'FACTURA', 'CONTRATO', 'CONCEPTO', 'TIPO', '# OP', 'FECHA', 'IMPORTE', 'SHEET']]"
   ]
  },
  {
   "cell_type": "markdown",
   "id": "e1e71490-0f4c-4e0a-adec-44a7f161f616",
   "metadata": {},
   "source": [
    "### Análisis unidimensional de las variables"
   ]
  },
  {
   "cell_type": "code",
   "execution_count": 49,
   "id": "7e7070f5-e9d0-4809-bbd1-acef363706f8",
   "metadata": {},
   "outputs": [
    {
     "data": {
      "text/plain": [
       "CONTRATISTAS Y FDO FED    724\n",
       "GASTOS VARIOS             690\n",
       "COMUNICACION               71\n",
       "SERV. PERS.                46\n",
       "SERV PPROF                  9\n",
       "Name: SHEET, dtype: int64"
      ]
     },
     "execution_count": 49,
     "metadata": {},
     "output_type": "execute_result"
    }
   ],
   "source": [
    "compras_df['SHEET'].value_counts()"
   ]
  },
  {
   "cell_type": "code",
   "execution_count": 10,
   "id": "37be31de-864c-43a6-8ea8-43d7a3233978",
   "metadata": {},
   "outputs": [
    {
     "data": {
      "text/plain": [
       "1396"
      ]
     },
     "execution_count": 10,
     "metadata": {},
     "output_type": "execute_result"
    }
   ],
   "source": [
    "len(compras_df['CONCEPTO'].unique())"
   ]
  },
  {
   "cell_type": "code",
   "execution_count": 11,
   "id": "ff94535f-5777-4556-9518-ace9355c17ab",
   "metadata": {},
   "outputs": [
    {
     "data": {
      "text/plain": [
       "CAMARA MEXICANA DE LA INDUSTRIA DE LA CONSTRUCCION    266\n",
       "AUTOKAM REGIOMONTANA,S.A.DE C.V.                      101\n",
       "CAR ONE MONTERREY, S.A. DE C.V.                        78\n",
       "PEREZ RIOS RAMIRO                                      58\n",
       "S.I.M.E.P.R.O.D.E.                                     50\n",
       "INTERASFALTOS, S.A. DE C.V.                            45\n",
       "GRUPO COYOTE MONTERREY, S.A. DE C.V.                   43\n",
       "SERVICIO TECNICO CHURUBUSCO, S.A. DE C.V.              30\n",
       "CFE SUMINISTRADOR DE SERVICIOS BASICOS                 29\n",
       "CORDERO MACIAS SILVESTRE GUADALUPE                     27\n",
       "Name: BENEFICIARIO, dtype: int64"
      ]
     },
     "execution_count": 11,
     "metadata": {},
     "output_type": "execute_result"
    }
   ],
   "source": [
    "compras_df['BENEFICIARIO'].value_counts()[0:10]"
   ]
  },
  {
   "cell_type": "code",
   "execution_count": 12,
   "id": "9a107ea6-ee78-4d4b-b328-af573da295c4",
   "metadata": {},
   "outputs": [
    {
     "data": {
      "text/plain": [
       "<AxesSubplot:>"
      ]
     },
     "execution_count": 12,
     "metadata": {},
     "output_type": "execute_result"
    },
    {
     "data": {
      "image/png": "[encoded data removed]",
      "text/plain": [
       "<Figure size 432x288 with 1 Axes>"
      ]
     },
     "metadata": {
      "needs_background": "light"
     },
     "output_type": "display_data"
    }
   ],
   "source": [
    "compras_df['IMPORTE'].hist()"
   ]
  },
  {
   "cell_type": "code",
   "execution_count": 13,
   "id": "b75a7dee-1e90-418b-a739-f385de602751",
   "metadata": {},
   "outputs": [
    {
     "data": {
      "text/plain": [
       "<AxesSubplot:>"
      ]
     },
     "execution_count": 13,
     "metadata": {},
     "output_type": "execute_result"
    },
    {
     "data": {
      "image/png": "[encoded data removed]",
      "text/plain": [
       "<Figure size 432x288 with 1 Axes>"
      ]
     },
     "metadata": {
      "needs_background": "light"
     },
     "output_type": "display_data"
    }
   ],
   "source": [
    "compras_df[compras_df['IMPORTE']<compras_df['IMPORTE'].quantile(0.95)]['IMPORTE'].hist()"
   ]
  },
  {
   "cell_type": "code",
   "execution_count": 14,
   "id": "8ff8300c-ca08-43ac-96fd-40d6ae43a0d2",
   "metadata": {},
   "outputs": [
    {
     "data": {
      "text/plain": [
       "<AxesSubplot:>"
      ]
     },
     "execution_count": 14,
     "metadata": {},
     "output_type": "execute_result"
    },
    {
     "data": {
      "image/png": "[encoded data removed]",
      "text/plain": [
       "<Figure size 432x288 with 1 Axes>"
      ]
     },
     "metadata": {
      "needs_background": "light"
     },
     "output_type": "display_data"
    }
   ],
   "source": [
    "compras_df[compras_df['IMPORTE']<compras_df['IMPORTE'].quantile(0.95)]['IMPORTE'].hist(bins=50)"
   ]
  },
  {
   "cell_type": "code",
   "execution_count": 15,
   "id": "dd64ff53-2cf0-4b90-b2e0-7077b1304fd2",
   "metadata": {},
   "outputs": [
    {
     "data": {
      "text/html": [
       "<div>\n",
       "<style scoped>\n",
       "    .dataframe tbody tr th:only-of-type {\n",
       "        vertical-align: middle;\n",
       "    }\n",
       "\n",
       "    .dataframe tbody tr th {\n",
       "        vertical-align: top;\n",
       "    }\n",
       "\n",
       "    .dataframe thead th {\n",
       "        text-align: right;\n",
       "    }\n",
       "</style>\n",
       "<table border=\"1\" class=\"dataframe\">\n",
       "  <thead>\n",
       "    <tr style=\"text-align: right;\">\n",
       "      <th></th>\n",
       "      <th>NUM BEN</th>\n",
       "      <th>BENEFICIARIO</th>\n",
       "      <th>RFC</th>\n",
       "      <th>FACTURA</th>\n",
       "      <th>CONTRATO</th>\n",
       "      <th>CONCEPTO</th>\n",
       "      <th>TIPO</th>\n",
       "      <th># OP</th>\n",
       "      <th>FECHA</th>\n",
       "      <th>IMPORTE</th>\n",
       "      <th>SHEET</th>\n",
       "    </tr>\n",
       "  </thead>\n",
       "  <tbody>\n",
       "    <tr>\n",
       "      <th>0</th>\n",
       "      <td>110152</td>\n",
       "      <td>LLANTAS Y SERVICIOS SERNA ANAHUAC,S.A. DE C.V.</td>\n",
       "      <td>LSS841015DV3</td>\n",
       "      <td>LLS AF8458-158008-3972</td>\n",
       "      <td>OT. 20204373</td>\n",
       "      <td>REEMPLAZO E INSTALACION DE AMORTIGUADORES (DEL...</td>\n",
       "      <td>TR</td>\n",
       "      <td>1019110.0</td>\n",
       "      <td>2020-12-11</td>\n",
       "      <td>14911.80</td>\n",
       "      <td>GASTOS VARIOS</td>\n",
       "    </tr>\n",
       "    <tr>\n",
       "      <th>1</th>\n",
       "      <td>110152</td>\n",
       "      <td>LLANTAS Y SERVICIOS SERNA ANAHUAC,S.A. DE C.V.</td>\n",
       "      <td>LSS841015DV3</td>\n",
       "      <td>LLS PF6916-158008-4041</td>\n",
       "      <td>OT. 20204425</td>\n",
       "      <td>REEMPLAZO E INSTALACION DE OCHO BIRLOS Y NUEVE...</td>\n",
       "      <td>TR</td>\n",
       "      <td>1019110.0</td>\n",
       "      <td>2020-12-11</td>\n",
       "      <td>2528.80</td>\n",
       "      <td>GASTOS VARIOS</td>\n",
       "    </tr>\n",
       "    <tr>\n",
       "      <th>2</th>\n",
       "      <td>110152</td>\n",
       "      <td>LLANTAS Y SERVICIOS SERNA ANAHUAC,S.A. DE C.V.</td>\n",
       "      <td>LSS841015DV3</td>\n",
       "      <td>LLS PF6917-158008-3975</td>\n",
       "      <td>OT. 20204376</td>\n",
       "      <td>REEMPLAZO DE DOS RINES  (17). PATRIMONIO 80383...</td>\n",
       "      <td>TR</td>\n",
       "      <td>1019110.0</td>\n",
       "      <td>2020-12-11</td>\n",
       "      <td>8500.02</td>\n",
       "      <td>GASTOS VARIOS</td>\n",
       "    </tr>\n",
       "    <tr>\n",
       "      <th>3</th>\n",
       "      <td>110152</td>\n",
       "      <td>LLANTAS Y SERVICIOS SERNA ANAHUAC,S.A. DE C.V.</td>\n",
       "      <td>LSS841015DV3</td>\n",
       "      <td>LLS PF7004-158008-3971</td>\n",
       "      <td>OT. 20204374</td>\n",
       "      <td>REEMPLAZO DE  DOS RINES  (14). PATRIMONIO 8007...</td>\n",
       "      <td>TR</td>\n",
       "      <td>1019110.0</td>\n",
       "      <td>2020-12-11</td>\n",
       "      <td>2400.01</td>\n",
       "      <td>GASTOS VARIOS</td>\n",
       "    </tr>\n",
       "    <tr>\n",
       "      <th>4</th>\n",
       "      <td>110152</td>\n",
       "      <td>LLANTAS Y SERVICIOS SERNA ANAHUAC,S.A. DE C.V.</td>\n",
       "      <td>LSS841015DV3</td>\n",
       "      <td>LLS PF7137-158008-4554</td>\n",
       "      <td>OT. 20205130</td>\n",
       "      <td>REEMPLAZO E INSTALACION DE RIN 14. PATRIMONIO ...</td>\n",
       "      <td>TR</td>\n",
       "      <td>299001496.0</td>\n",
       "      <td>2020-12-23</td>\n",
       "      <td>1537.00</td>\n",
       "      <td>GASTOS VARIOS</td>\n",
       "    </tr>\n",
       "  </tbody>\n",
       "</table>\n",
       "</div>"
      ],
      "text/plain": [
       "   NUM BEN                                    BENEFICIARIO           RFC  \\\n",
       "0   110152  LLANTAS Y SERVICIOS SERNA ANAHUAC,S.A. DE C.V.  LSS841015DV3   \n",
       "1   110152  LLANTAS Y SERVICIOS SERNA ANAHUAC,S.A. DE C.V.  LSS841015DV3   \n",
       "2   110152  LLANTAS Y SERVICIOS SERNA ANAHUAC,S.A. DE C.V.  LSS841015DV3   \n",
       "3   110152  LLANTAS Y SERVICIOS SERNA ANAHUAC,S.A. DE C.V.  LSS841015DV3   \n",
       "4   110152  LLANTAS Y SERVICIOS SERNA ANAHUAC,S.A. DE C.V.  LSS841015DV3   \n",
       "\n",
       "                  FACTURA      CONTRATO  \\\n",
       "0  LLS AF8458-158008-3972  OT. 20204373   \n",
       "1  LLS PF6916-158008-4041  OT. 20204425   \n",
       "2  LLS PF6917-158008-3975  OT. 20204376   \n",
       "3  LLS PF7004-158008-3971  OT. 20204374   \n",
       "4  LLS PF7137-158008-4554  OT. 20205130   \n",
       "\n",
       "                                            CONCEPTO TIPO         # OP  \\\n",
       "0  REEMPLAZO E INSTALACION DE AMORTIGUADORES (DEL...   TR    1019110.0   \n",
       "1  REEMPLAZO E INSTALACION DE OCHO BIRLOS Y NUEVE...   TR    1019110.0   \n",
       "2  REEMPLAZO DE DOS RINES  (17). PATRIMONIO 80383...   TR    1019110.0   \n",
       "3  REEMPLAZO DE  DOS RINES  (14). PATRIMONIO 8007...   TR    1019110.0   \n",
       "4  REEMPLAZO E INSTALACION DE RIN 14. PATRIMONIO ...   TR  299001496.0   \n",
       "\n",
       "        FECHA   IMPORTE          SHEET  \n",
       "0  2020-12-11  14911.80  GASTOS VARIOS  \n",
       "1  2020-12-11   2528.80  GASTOS VARIOS  \n",
       "2  2020-12-11   8500.02  GASTOS VARIOS  \n",
       "3  2020-12-11   2400.01  GASTOS VARIOS  \n",
       "4  2020-12-23   1537.00  GASTOS VARIOS  "
      ]
     },
     "execution_count": 15,
     "metadata": {},
     "output_type": "execute_result"
    }
   ],
   "source": [
    "compras_df[compras_df['IMPORTE']<compras_df['IMPORTE'].quantile(0.95)].head(5)"
   ]
  },
  {
   "cell_type": "markdown",
   "id": "4ca605e4-a937-4398-9652-7ca9d7066f76",
   "metadata": {},
   "source": [
    "### Análisis multidimensional de las variables"
   ]
  },
  {
   "cell_type": "code",
   "execution_count": 20,
   "id": "46e0c949-7dcc-4642-b4e6-361bf5dd9a28",
   "metadata": {},
   "outputs": [],
   "source": [
    "sum_importe_beneficiario = compras_df.groupby('BENEFICIARIO').sum()['IMPORTE']"
   ]
  },
  {
   "cell_type": "code",
   "execution_count": 21,
   "id": "717fba3c-5334-450c-8408-42e502d3fab9",
   "metadata": {},
   "outputs": [
    {
     "data": {
      "text/plain": [
       "BENEFICIARIO\n",
       "235 PROYECTOS, S.A. DE C.V.                   1649292.36\n",
       "ABC Y CONSTRUCCIONES, SA. DE CV.              1311087.90\n",
       "ACEROS Y OVEROLLINGS DE MEXICO, SA. DE CV.       5914.30\n",
       "ADQUISICIONES INTELIGENTES, S.A. DE C.V.      2132196.00\n",
       "ALIANZA AUTOMOTRIZ RIVERO, SA. DE CV.          450859.52\n",
       "                                                 ...    \n",
       "VILLARREAL CARDENAS JUAN IGNACIO                 3733.13\n",
       "VILLARREAL CARDENAS NANCY ESTHER                81461.14\n",
       "VILLARREAL DE LEON BERTHA                       11004.05\n",
       "VIVERO EL ESCORIAL, S.A. DE C.V.              2511255.46\n",
       "ZAPATA CHAVIRA HOMERO ARTURO                    28350.00\n",
       "Name: IMPORTE, Length: 301, dtype: float64"
      ]
     },
     "execution_count": 21,
     "metadata": {},
     "output_type": "execute_result"
    }
   ],
   "source": [
    "sum_importe_beneficiario"
   ]
  },
  {
   "cell_type": "code",
   "execution_count": 24,
   "id": "994d043b-cb69-4541-ac33-7e7bee1cdaa4",
   "metadata": {},
   "outputs": [
    {
     "data": {
      "text/plain": [
       "<AxesSubplot:xlabel='BENEFICIARIO'>"
      ]
     },
     "execution_count": 24,
     "metadata": {},
     "output_type": "execute_result"
    },
    {
     "data": {
      "image/png": "[encoded data removed]",
      "text/plain": [
       "<Figure size 432x288 with 1 Axes>"
      ]
     },
     "metadata": {
      "needs_background": "light"
     },
     "output_type": "display_data"
    }
   ],
   "source": [
    "sum_importe_beneficiario.reset_index().sort_values(by='IMPORTE', ascending=False).iloc[0:10].plot(kind='bar', x='BENEFICIARIO', y='IMPORTE')"
   ]
  },
  {
   "cell_type": "code",
   "execution_count": 26,
   "id": "b8f58909-d1ad-4f84-b4db-2b8f164e901f",
   "metadata": {},
   "outputs": [],
   "source": [
    "mean_importe_sheet = compras_df.groupby('SHEET').mean()['IMPORTE']"
   ]
  },
  {
   "cell_type": "code",
   "execution_count": 27,
   "id": "333356e1-3f07-4837-aa6f-3afcfe715e8a",
   "metadata": {},
   "outputs": [
    {
     "data": {
      "text/html": [
       "<div>\n",
       "<style scoped>\n",
       "    .dataframe tbody tr th:only-of-type {\n",
       "        vertical-align: middle;\n",
       "    }\n",
       "\n",
       "    .dataframe tbody tr th {\n",
       "        vertical-align: top;\n",
       "    }\n",
       "\n",
       "    .dataframe thead th {\n",
       "        text-align: right;\n",
       "    }\n",
       "</style>\n",
       "<table border=\"1\" class=\"dataframe\">\n",
       "  <thead>\n",
       "    <tr style=\"text-align: right;\">\n",
       "      <th></th>\n",
       "      <th>SHEET</th>\n",
       "      <th>IMPORTE</th>\n",
       "    </tr>\n",
       "  </thead>\n",
       "  <tbody>\n",
       "    <tr>\n",
       "      <th>2</th>\n",
       "      <td>GASTOS VARIOS</td>\n",
       "      <td>881659.731797</td>\n",
       "    </tr>\n",
       "    <tr>\n",
       "      <th>1</th>\n",
       "      <td>CONTRATISTAS Y FDO FED</td>\n",
       "      <td>474566.765787</td>\n",
       "    </tr>\n",
       "    <tr>\n",
       "      <th>3</th>\n",
       "      <td>SERV PPROF</td>\n",
       "      <td>229592.166667</td>\n",
       "    </tr>\n",
       "    <tr>\n",
       "      <th>0</th>\n",
       "      <td>COMUNICACION</td>\n",
       "      <td>109705.343662</td>\n",
       "    </tr>\n",
       "    <tr>\n",
       "      <th>4</th>\n",
       "      <td>SERV. PERS.</td>\n",
       "      <td>59623.405217</td>\n",
       "    </tr>\n",
       "  </tbody>\n",
       "</table>\n",
       "</div>"
      ],
      "text/plain": [
       "                    SHEET        IMPORTE\n",
       "2           GASTOS VARIOS  881659.731797\n",
       "1  CONTRATISTAS Y FDO FED  474566.765787\n",
       "3              SERV PPROF  229592.166667\n",
       "0            COMUNICACION  109705.343662\n",
       "4             SERV. PERS.   59623.405217"
      ]
     },
     "execution_count": 27,
     "metadata": {},
     "output_type": "execute_result"
    }
   ],
   "source": [
    "mean_importe_sheet.reset_index().sort_values(by='IMPORTE', ascending=False).iloc[0:10]"
   ]
  },
  {
   "cell_type": "code",
   "execution_count": 28,
   "id": "281e85b8-fa1c-406b-a7aa-27926c4dc986",
   "metadata": {},
   "outputs": [],
   "source": [
    "sum_importe_fecha = compras_df.groupby('FECHA').sum()['IMPORTE']"
   ]
  },
  {
   "cell_type": "code",
   "execution_count": 29,
   "id": "7485894f-9804-4b87-ae90-c765600cc882",
   "metadata": {},
   "outputs": [
    {
     "data": {
      "text/plain": [
       "FECHA\n",
       "2020-12-01    2.453181e+04\n",
       "2020-12-02    3.000000e+04\n",
       "2020-12-03    1.313241e+05\n",
       "2020-12-04    7.432247e+07\n",
       "2020-12-07    1.815018e+06\n",
       "2020-12-08    1.519824e+08\n",
       "2020-12-09    4.659596e+05\n",
       "2020-12-10    1.207010e+06\n",
       "2020-12-11    1.127524e+08\n",
       "2020-12-14    3.692338e+05\n",
       "2020-12-15    1.826510e+04\n",
       "2020-12-16    2.504067e+06\n",
       "2020-12-17    1.735205e+08\n",
       "2020-12-18    1.568875e+08\n",
       "2020-12-21    9.441760e+05\n",
       "2020-12-22    6.814845e+07\n",
       "2020-12-23    3.328571e+07\n",
       "2020-12-28    1.204764e+08\n",
       "2020-12-29    2.050000e+05\n",
       "2020-12-30    6.435889e+07\n",
       "2020-12-31    1.080281e+06\n",
       "Name: IMPORTE, dtype: float64"
      ]
     },
     "execution_count": 29,
     "metadata": {},
     "output_type": "execute_result"
    }
   ],
   "source": [
    "sum_importe_fecha"
   ]
  },
  {
   "cell_type": "code",
   "execution_count": 30,
   "id": "7dd9b1de-8093-4b07-beda-db2c79de6450",
   "metadata": {},
   "outputs": [],
   "source": [
    "compras_gastos_df = compras_df[compras_df['SHEET']=='GASTOS VARIOS']"
   ]
  },
  {
   "cell_type": "code",
   "execution_count": 31,
   "id": "b700a129-6a90-4d53-98db-3204992857cc",
   "metadata": {},
   "outputs": [
    {
     "data": {
      "text/plain": [
       "<AxesSubplot:>"
      ]
     },
     "execution_count": 31,
     "metadata": {},
     "output_type": "execute_result"
    },
    {
     "data": {
      "image/png": "[encoded data removed]",
      "text/plain": [
       "<Figure size 432x288 with 1 Axes>"
      ]
     },
     "metadata": {
      "needs_background": "light"
     },
     "output_type": "display_data"
    }
   ],
   "source": [
    "compras_gastos_df['IMPORTE'].hist(bins=50)"
   ]
  },
  {
   "cell_type": "code",
   "execution_count": 33,
   "id": "c4f5a122-a87e-423d-8e08-9649a2af0a0f",
   "metadata": {},
   "outputs": [
    {
     "data": {
      "text/html": [
       "<div>\n",
       "<style scoped>\n",
       "    .dataframe tbody tr th:only-of-type {\n",
       "        vertical-align: middle;\n",
       "    }\n",
       "\n",
       "    .dataframe tbody tr th {\n",
       "        vertical-align: top;\n",
       "    }\n",
       "\n",
       "    .dataframe thead th {\n",
       "        text-align: right;\n",
       "    }\n",
       "</style>\n",
       "<table border=\"1\" class=\"dataframe\">\n",
       "  <thead>\n",
       "    <tr style=\"text-align: right;\">\n",
       "      <th></th>\n",
       "      <th>NUM BEN</th>\n",
       "      <th>BENEFICIARIO</th>\n",
       "      <th>RFC</th>\n",
       "      <th>FACTURA</th>\n",
       "      <th>CONTRATO</th>\n",
       "      <th>CONCEPTO</th>\n",
       "      <th>TIPO</th>\n",
       "      <th># OP</th>\n",
       "      <th>FECHA</th>\n",
       "      <th>IMPORTE</th>\n",
       "      <th>SHEET</th>\n",
       "    </tr>\n",
       "  </thead>\n",
       "  <tbody>\n",
       "    <tr>\n",
       "      <th>367</th>\n",
       "      <td>206894</td>\n",
       "      <td>MUNICIPIO DE LA CIUDAD DE MONTERREY</td>\n",
       "      <td>MCM610101PT2</td>\n",
       "      <td>2020-23-A-158004-1734</td>\n",
       "      <td>NO APLICA</td>\n",
       "      <td>PAGO DE NÓMINA PERIODO: 23-2020, BANCO: BANCA ...</td>\n",
       "      <td>TR</td>\n",
       "      <td>11000196.0</td>\n",
       "      <td>2020-12-17</td>\n",
       "      <td>73864368.92</td>\n",
       "      <td>GASTOS VARIOS</td>\n",
       "    </tr>\n",
       "    <tr>\n",
       "      <th>368</th>\n",
       "      <td>206894</td>\n",
       "      <td>MUNICIPIO DE LA CIUDAD DE MONTERREY</td>\n",
       "      <td>MCM610101PT2</td>\n",
       "      <td>2020-23-B-158004-1735</td>\n",
       "      <td>NO APLICA</td>\n",
       "      <td>PAGO DE NÓMINA PERIODO: 23-2020, BANCO: BANCO ...</td>\n",
       "      <td>TR</td>\n",
       "      <td>231000103.0</td>\n",
       "      <td>2020-12-17</td>\n",
       "      <td>76352493.81</td>\n",
       "      <td>GASTOS VARIOS</td>\n",
       "    </tr>\n",
       "    <tr>\n",
       "      <th>369</th>\n",
       "      <td>206894</td>\n",
       "      <td>MUNICIPIO DE LA CIUDAD DE MONTERREY</td>\n",
       "      <td>MCM610101PT2</td>\n",
       "      <td>2020-23-C-158004-1733</td>\n",
       "      <td>NO APLICA</td>\n",
       "      <td>PAGO DE NÓMINA PERIODO: 23-2020, BANCO: BANCO ...</td>\n",
       "      <td>TR</td>\n",
       "      <td>240000108.0</td>\n",
       "      <td>2020-12-17</td>\n",
       "      <td>19246138.70</td>\n",
       "      <td>GASTOS VARIOS</td>\n",
       "    </tr>\n",
       "    <tr>\n",
       "      <th>370</th>\n",
       "      <td>206894</td>\n",
       "      <td>MUNICIPIO DE LA CIUDAD DE MONTERREY</td>\n",
       "      <td>MCM610101PT2</td>\n",
       "      <td>2020-24-A-158004-1760</td>\n",
       "      <td>NO APLICA</td>\n",
       "      <td>PAGO DE NÓMINA PERIODO: 24-2020, BANCO: BANCA ...</td>\n",
       "      <td>TR</td>\n",
       "      <td>11000197.0</td>\n",
       "      <td>2020-12-28</td>\n",
       "      <td>36101891.39</td>\n",
       "      <td>GASTOS VARIOS</td>\n",
       "    </tr>\n",
       "    <tr>\n",
       "      <th>371</th>\n",
       "      <td>206894</td>\n",
       "      <td>MUNICIPIO DE LA CIUDAD DE MONTERREY</td>\n",
       "      <td>MCM610101PT2</td>\n",
       "      <td>2020-24-A-158004-1780</td>\n",
       "      <td>NO APLICA</td>\n",
       "      <td>PAGO DE NÓMINA PERIODO: 24-2020-E1, BANCO: BAN...</td>\n",
       "      <td>TR</td>\n",
       "      <td>11000198.0</td>\n",
       "      <td>2020-12-28</td>\n",
       "      <td>27443.46</td>\n",
       "      <td>GASTOS VARIOS</td>\n",
       "    </tr>\n",
       "    <tr>\n",
       "      <th>372</th>\n",
       "      <td>206894</td>\n",
       "      <td>MUNICIPIO DE LA CIUDAD DE MONTERREY</td>\n",
       "      <td>MCM610101PT2</td>\n",
       "      <td>2020-24-B-158004-1761</td>\n",
       "      <td>NO APLICA</td>\n",
       "      <td>PAGO DE NÓMINA PERIODO: 24-2020, BANCO: BANCO ...</td>\n",
       "      <td>TR</td>\n",
       "      <td>231000104.0</td>\n",
       "      <td>2020-12-28</td>\n",
       "      <td>33579364.01</td>\n",
       "      <td>GASTOS VARIOS</td>\n",
       "    </tr>\n",
       "    <tr>\n",
       "      <th>373</th>\n",
       "      <td>206894</td>\n",
       "      <td>MUNICIPIO DE LA CIUDAD DE MONTERREY</td>\n",
       "      <td>MCM610101PT2</td>\n",
       "      <td>2020-24-B-158004-1781</td>\n",
       "      <td>NO APLICA</td>\n",
       "      <td>PAGO DE NÓMINA PERIODO: 24-2020-E1, BANCO: BAN...</td>\n",
       "      <td>TR</td>\n",
       "      <td>231000105.0</td>\n",
       "      <td>2020-12-28</td>\n",
       "      <td>132688.02</td>\n",
       "      <td>GASTOS VARIOS</td>\n",
       "    </tr>\n",
       "    <tr>\n",
       "      <th>374</th>\n",
       "      <td>206894</td>\n",
       "      <td>MUNICIPIO DE LA CIUDAD DE MONTERREY</td>\n",
       "      <td>MCM610101PT2</td>\n",
       "      <td>2020-24-C-158004-1759</td>\n",
       "      <td>NO APLICA</td>\n",
       "      <td>PAGO DE NÓMINA PERIODO: 24-2020, BANCO: BANCO ...</td>\n",
       "      <td>TR</td>\n",
       "      <td>240000109.0</td>\n",
       "      <td>2020-12-28</td>\n",
       "      <td>13362855.08</td>\n",
       "      <td>GASTOS VARIOS</td>\n",
       "    </tr>\n",
       "    <tr>\n",
       "      <th>375</th>\n",
       "      <td>206894</td>\n",
       "      <td>MUNICIPIO DE LA CIUDAD DE MONTERREY</td>\n",
       "      <td>MCM610101PT2</td>\n",
       "      <td>2020-24-C-158004-1779</td>\n",
       "      <td>NO APLICA</td>\n",
       "      <td>PAGO DE NÓMINA PERIODO: 24-2020-E1, BANCO: BAN...</td>\n",
       "      <td>TR</td>\n",
       "      <td>240000110.0</td>\n",
       "      <td>2020-12-28</td>\n",
       "      <td>17925.96</td>\n",
       "      <td>GASTOS VARIOS</td>\n",
       "    </tr>\n",
       "    <tr>\n",
       "      <th>376</th>\n",
       "      <td>206894</td>\n",
       "      <td>MUNICIPIO DE LA CIUDAD DE MONTERREY</td>\n",
       "      <td>MCM610101PT2</td>\n",
       "      <td>158002-470</td>\n",
       "      <td>NO APLICA</td>\n",
       "      <td>FINIQUITO DE FONDO OPERATIVO DE LA SECRETARÍA ...</td>\n",
       "      <td>CH</td>\n",
       "      <td>299000198.0</td>\n",
       "      <td>2020-12-30</td>\n",
       "      <td>1439.20</td>\n",
       "      <td>GASTOS VARIOS</td>\n",
       "    </tr>\n",
       "    <tr>\n",
       "      <th>377</th>\n",
       "      <td>206894</td>\n",
       "      <td>MUNICIPIO DE LA CIUDAD DE MONTERREY</td>\n",
       "      <td>MCM610101PT2</td>\n",
       "      <td>158002-472</td>\n",
       "      <td>NO APLICA</td>\n",
       "      <td>FINIQUITO DE CAJA CHICA DE LA SECRETARÍA DE OB...</td>\n",
       "      <td>CH</td>\n",
       "      <td>299000200.0</td>\n",
       "      <td>2020-12-30</td>\n",
       "      <td>2847.79</td>\n",
       "      <td>GASTOS VARIOS</td>\n",
       "    </tr>\n",
       "  </tbody>\n",
       "</table>\n",
       "</div>"
      ],
      "text/plain": [
       "     NUM BEN                         BENEFICIARIO           RFC  \\\n",
       "367   206894  MUNICIPIO DE LA CIUDAD DE MONTERREY  MCM610101PT2   \n",
       "368   206894  MUNICIPIO DE LA CIUDAD DE MONTERREY  MCM610101PT2   \n",
       "369   206894  MUNICIPIO DE LA CIUDAD DE MONTERREY  MCM610101PT2   \n",
       "370   206894  MUNICIPIO DE LA CIUDAD DE MONTERREY  MCM610101PT2   \n",
       "371   206894  MUNICIPIO DE LA CIUDAD DE MONTERREY  MCM610101PT2   \n",
       "372   206894  MUNICIPIO DE LA CIUDAD DE MONTERREY  MCM610101PT2   \n",
       "373   206894  MUNICIPIO DE LA CIUDAD DE MONTERREY  MCM610101PT2   \n",
       "374   206894  MUNICIPIO DE LA CIUDAD DE MONTERREY  MCM610101PT2   \n",
       "375   206894  MUNICIPIO DE LA CIUDAD DE MONTERREY  MCM610101PT2   \n",
       "376   206894  MUNICIPIO DE LA CIUDAD DE MONTERREY  MCM610101PT2   \n",
       "377   206894  MUNICIPIO DE LA CIUDAD DE MONTERREY  MCM610101PT2   \n",
       "\n",
       "                   FACTURA   CONTRATO  \\\n",
       "367  2020-23-A-158004-1734  NO APLICA   \n",
       "368  2020-23-B-158004-1735  NO APLICA   \n",
       "369  2020-23-C-158004-1733  NO APLICA   \n",
       "370  2020-24-A-158004-1760  NO APLICA   \n",
       "371  2020-24-A-158004-1780  NO APLICA   \n",
       "372  2020-24-B-158004-1761  NO APLICA   \n",
       "373  2020-24-B-158004-1781  NO APLICA   \n",
       "374  2020-24-C-158004-1759  NO APLICA   \n",
       "375  2020-24-C-158004-1779  NO APLICA   \n",
       "376             158002-470  NO APLICA   \n",
       "377             158002-472  NO APLICA   \n",
       "\n",
       "                                              CONCEPTO TIPO         # OP  \\\n",
       "367  PAGO DE NÓMINA PERIODO: 23-2020, BANCO: BANCA ...   TR   11000196.0   \n",
       "368  PAGO DE NÓMINA PERIODO: 23-2020, BANCO: BANCO ...   TR  231000103.0   \n",
       "369  PAGO DE NÓMINA PERIODO: 23-2020, BANCO: BANCO ...   TR  240000108.0   \n",
       "370  PAGO DE NÓMINA PERIODO: 24-2020, BANCO: BANCA ...   TR   11000197.0   \n",
       "371  PAGO DE NÓMINA PERIODO: 24-2020-E1, BANCO: BAN...   TR   11000198.0   \n",
       "372  PAGO DE NÓMINA PERIODO: 24-2020, BANCO: BANCO ...   TR  231000104.0   \n",
       "373  PAGO DE NÓMINA PERIODO: 24-2020-E1, BANCO: BAN...   TR  231000105.0   \n",
       "374  PAGO DE NÓMINA PERIODO: 24-2020, BANCO: BANCO ...   TR  240000109.0   \n",
       "375  PAGO DE NÓMINA PERIODO: 24-2020-E1, BANCO: BAN...   TR  240000110.0   \n",
       "376  FINIQUITO DE FONDO OPERATIVO DE LA SECRETARÍA ...   CH  299000198.0   \n",
       "377  FINIQUITO DE CAJA CHICA DE LA SECRETARÍA DE OB...   CH  299000200.0   \n",
       "\n",
       "          FECHA      IMPORTE          SHEET  \n",
       "367  2020-12-17  73864368.92  GASTOS VARIOS  \n",
       "368  2020-12-17  76352493.81  GASTOS VARIOS  \n",
       "369  2020-12-17  19246138.70  GASTOS VARIOS  \n",
       "370  2020-12-28  36101891.39  GASTOS VARIOS  \n",
       "371  2020-12-28     27443.46  GASTOS VARIOS  \n",
       "372  2020-12-28  33579364.01  GASTOS VARIOS  \n",
       "373  2020-12-28    132688.02  GASTOS VARIOS  \n",
       "374  2020-12-28  13362855.08  GASTOS VARIOS  \n",
       "375  2020-12-28     17925.96  GASTOS VARIOS  \n",
       "376  2020-12-30      1439.20  GASTOS VARIOS  \n",
       "377  2020-12-30      2847.79  GASTOS VARIOS  "
      ]
     },
     "execution_count": 33,
     "metadata": {},
     "output_type": "execute_result"
    }
   ],
   "source": [
    "compras_gastos_df[compras_gastos_df['BENEFICIARIO'] == 'MUNICIPIO DE LA CIUDAD DE MONTERREY']"
   ]
  },
  {
   "cell_type": "code",
   "execution_count": 35,
   "id": "b37c1943-b30a-4b86-98a9-4de3ece6f0af",
   "metadata": {},
   "outputs": [
    {
     "data": {
      "text/plain": [
       "GASTOS VARIOS             11\n",
       "CONTRATISTAS Y FDO FED     5\n",
       "Name: SHEET, dtype: int64"
      ]
     },
     "execution_count": 35,
     "metadata": {},
     "output_type": "execute_result"
    }
   ],
   "source": [
    "compras_df[compras_df['BENEFICIARIO'] == 'MUNICIPIO DE LA CIUDAD DE MONTERREY']['SHEET'].value_counts()"
   ]
  },
  {
   "cell_type": "code",
   "execution_count": 40,
   "id": "ba8448de-efb6-46bc-b1f5-bfe2cc934675",
   "metadata": {},
   "outputs": [
    {
     "data": {
      "text/html": [
       "<div>\n",
       "<style scoped>\n",
       "    .dataframe tbody tr th:only-of-type {\n",
       "        vertical-align: middle;\n",
       "    }\n",
       "\n",
       "    .dataframe tbody tr th {\n",
       "        vertical-align: top;\n",
       "    }\n",
       "\n",
       "    .dataframe thead th {\n",
       "        text-align: right;\n",
       "    }\n",
       "</style>\n",
       "<table border=\"1\" class=\"dataframe\">\n",
       "  <thead>\n",
       "    <tr style=\"text-align: right;\">\n",
       "      <th></th>\n",
       "      <th></th>\n",
       "      <th>NUM BEN</th>\n",
       "      <th># OP</th>\n",
       "      <th>IMPORTE</th>\n",
       "    </tr>\n",
       "    <tr>\n",
       "      <th>BENEFICIARIO</th>\n",
       "      <th>SHEET</th>\n",
       "      <th></th>\n",
       "      <th></th>\n",
       "      <th></th>\n",
       "    </tr>\n",
       "  </thead>\n",
       "  <tbody>\n",
       "    <tr>\n",
       "      <th>235 PROYECTOS, S.A. DE C.V.</th>\n",
       "      <th>GASTOS VARIOS</th>\n",
       "      <td>637348</td>\n",
       "      <td>5.980030e+08</td>\n",
       "      <td>1649292.36</td>\n",
       "    </tr>\n",
       "    <tr>\n",
       "      <th>ABC Y CONSTRUCCIONES, SA. DE CV.</th>\n",
       "      <th>CONTRATISTAS Y FDO FED</th>\n",
       "      <td>493020</td>\n",
       "      <td>1.012000e+09</td>\n",
       "      <td>1311087.90</td>\n",
       "    </tr>\n",
       "    <tr>\n",
       "      <th>ACEROS Y OVEROLLINGS DE MEXICO, SA. DE CV.</th>\n",
       "      <th>GASTOS VARIOS</th>\n",
       "      <td>214872</td>\n",
       "      <td>1.104599e+06</td>\n",
       "      <td>5914.30</td>\n",
       "    </tr>\n",
       "    <tr>\n",
       "      <th>ADQUISICIONES INTELIGENTES, S.A. DE C.V.</th>\n",
       "      <th>CONTRATISTAS Y FDO FED</th>\n",
       "      <td>636842</td>\n",
       "      <td>6.020001e+08</td>\n",
       "      <td>2132196.00</td>\n",
       "    </tr>\n",
       "    <tr>\n",
       "      <th>ALIANZA AUTOMOTRIZ RIVERO, SA. DE CV.</th>\n",
       "      <th>GASTOS VARIOS</th>\n",
       "      <td>214873</td>\n",
       "      <td>2.990002e+08</td>\n",
       "      <td>450859.52</td>\n",
       "    </tr>\n",
       "    <tr>\n",
       "      <th>...</th>\n",
       "      <th>...</th>\n",
       "      <td>...</td>\n",
       "      <td>...</td>\n",
       "      <td>...</td>\n",
       "    </tr>\n",
       "    <tr>\n",
       "      <th>VILLARREAL CARDENAS JUAN IGNACIO</th>\n",
       "      <th>SERV. PERS.</th>\n",
       "      <td>203013</td>\n",
       "      <td>2.990002e+08</td>\n",
       "      <td>3733.13</td>\n",
       "    </tr>\n",
       "    <tr>\n",
       "      <th>VILLARREAL CARDENAS NANCY ESTHER</th>\n",
       "      <th>SERV. PERS.</th>\n",
       "      <td>406029</td>\n",
       "      <td>3.001047e+08</td>\n",
       "      <td>81461.14</td>\n",
       "    </tr>\n",
       "    <tr>\n",
       "      <th>VILLARREAL DE LEON BERTHA</th>\n",
       "      <th>GASTOS VARIOS</th>\n",
       "      <td>214872</td>\n",
       "      <td>1.104610e+06</td>\n",
       "      <td>11004.05</td>\n",
       "    </tr>\n",
       "    <tr>\n",
       "      <th>VIVERO EL ESCORIAL, S.A. DE C.V.</th>\n",
       "      <th>GASTOS VARIOS</th>\n",
       "      <td>113466</td>\n",
       "      <td>2.990015e+08</td>\n",
       "      <td>2511255.46</td>\n",
       "    </tr>\n",
       "    <tr>\n",
       "      <th>ZAPATA CHAVIRA HOMERO ARTURO</th>\n",
       "      <th>SERV PPROF</th>\n",
       "      <td>115764</td>\n",
       "      <td>2.990014e+08</td>\n",
       "      <td>28350.00</td>\n",
       "    </tr>\n",
       "  </tbody>\n",
       "</table>\n",
       "<p>320 rows × 3 columns</p>\n",
       "</div>"
      ],
      "text/plain": [
       "                                                                   NUM BEN  \\\n",
       "BENEFICIARIO                               SHEET                             \n",
       "235 PROYECTOS, S.A. DE C.V.                GASTOS VARIOS            637348   \n",
       "ABC Y CONSTRUCCIONES, SA. DE CV.           CONTRATISTAS Y FDO FED   493020   \n",
       "ACEROS Y OVEROLLINGS DE MEXICO, SA. DE CV. GASTOS VARIOS            214872   \n",
       "ADQUISICIONES INTELIGENTES, S.A. DE C.V.   CONTRATISTAS Y FDO FED   636842   \n",
       "ALIANZA AUTOMOTRIZ RIVERO, SA. DE CV.      GASTOS VARIOS            214873   \n",
       "...                                                                    ...   \n",
       "VILLARREAL CARDENAS JUAN IGNACIO           SERV. PERS.              203013   \n",
       "VILLARREAL CARDENAS NANCY ESTHER           SERV. PERS.              406029   \n",
       "VILLARREAL DE LEON BERTHA                  GASTOS VARIOS            214872   \n",
       "VIVERO EL ESCORIAL, S.A. DE C.V.           GASTOS VARIOS            113466   \n",
       "ZAPATA CHAVIRA HOMERO ARTURO               SERV PPROF               115764   \n",
       "\n",
       "                                                                           # OP  \\\n",
       "BENEFICIARIO                               SHEET                                  \n",
       "235 PROYECTOS, S.A. DE C.V.                GASTOS VARIOS           5.980030e+08   \n",
       "ABC Y CONSTRUCCIONES, SA. DE CV.           CONTRATISTAS Y FDO FED  1.012000e+09   \n",
       "ACEROS Y OVEROLLINGS DE MEXICO, SA. DE CV. GASTOS VARIOS           1.104599e+06   \n",
       "ADQUISICIONES INTELIGENTES, S.A. DE C.V.   CONTRATISTAS Y FDO FED  6.020001e+08   \n",
       "ALIANZA AUTOMOTRIZ RIVERO, SA. DE CV.      GASTOS VARIOS           2.990002e+08   \n",
       "...                                                                         ...   \n",
       "VILLARREAL CARDENAS JUAN IGNACIO           SERV. PERS.             2.990002e+08   \n",
       "VILLARREAL CARDENAS NANCY ESTHER           SERV. PERS.             3.001047e+08   \n",
       "VILLARREAL DE LEON BERTHA                  GASTOS VARIOS           1.104610e+06   \n",
       "VIVERO EL ESCORIAL, S.A. DE C.V.           GASTOS VARIOS           2.990015e+08   \n",
       "ZAPATA CHAVIRA HOMERO ARTURO               SERV PPROF              2.990014e+08   \n",
       "\n",
       "                                                                      IMPORTE  \n",
       "BENEFICIARIO                               SHEET                               \n",
       "235 PROYECTOS, S.A. DE C.V.                GASTOS VARIOS           1649292.36  \n",
       "ABC Y CONSTRUCCIONES, SA. DE CV.           CONTRATISTAS Y FDO FED  1311087.90  \n",
       "ACEROS Y OVEROLLINGS DE MEXICO, SA. DE CV. GASTOS VARIOS              5914.30  \n",
       "ADQUISICIONES INTELIGENTES, S.A. DE C.V.   CONTRATISTAS Y FDO FED  2132196.00  \n",
       "ALIANZA AUTOMOTRIZ RIVERO, SA. DE CV.      GASTOS VARIOS            450859.52  \n",
       "...                                                                       ...  \n",
       "VILLARREAL CARDENAS JUAN IGNACIO           SERV. PERS.                3733.13  \n",
       "VILLARREAL CARDENAS NANCY ESTHER           SERV. PERS.               81461.14  \n",
       "VILLARREAL DE LEON BERTHA                  GASTOS VARIOS             11004.05  \n",
       "VIVERO EL ESCORIAL, S.A. DE C.V.           GASTOS VARIOS           2511255.46  \n",
       "ZAPATA CHAVIRA HOMERO ARTURO               SERV PPROF                28350.00  \n",
       "\n",
       "[320 rows x 3 columns]"
      ]
     },
     "execution_count": 40,
     "metadata": {},
     "output_type": "execute_result"
    }
   ],
   "source": [
    "compras_df.groupby(['BENEFICIARIO', 'SHEET']).sum()"
   ]
  },
  {
   "cell_type": "code",
   "execution_count": 39,
   "id": "0bb6ab5f-b630-44e7-b204-54fff957222a",
   "metadata": {},
   "outputs": [],
   "source": [
    "compras_sheet_beneficiario = compras_df.groupby(['BENEFICIARIO', 'SHEET']).sum()['IMPORTE'].sort_values().unstack('SHEET')"
   ]
  },
  {
   "cell_type": "code",
   "execution_count": 41,
   "id": "5fe27c6f-941c-4038-8b6e-2d842638bf16",
   "metadata": {},
   "outputs": [
    {
     "data": {
      "text/html": [
       "<div>\n",
       "<style scoped>\n",
       "    .dataframe tbody tr th:only-of-type {\n",
       "        vertical-align: middle;\n",
       "    }\n",
       "\n",
       "    .dataframe tbody tr th {\n",
       "        vertical-align: top;\n",
       "    }\n",
       "\n",
       "    .dataframe thead th {\n",
       "        text-align: right;\n",
       "    }\n",
       "</style>\n",
       "<table border=\"1\" class=\"dataframe\">\n",
       "  <thead>\n",
       "    <tr style=\"text-align: right;\">\n",
       "      <th>SHEET</th>\n",
       "      <th>COMUNICACION</th>\n",
       "      <th>CONTRATISTAS Y FDO FED</th>\n",
       "      <th>GASTOS VARIOS</th>\n",
       "      <th>SERV PPROF</th>\n",
       "      <th>SERV. PERS.</th>\n",
       "    </tr>\n",
       "    <tr>\n",
       "      <th>BENEFICIARIO</th>\n",
       "      <th></th>\n",
       "      <th></th>\n",
       "      <th></th>\n",
       "      <th></th>\n",
       "      <th></th>\n",
       "    </tr>\n",
       "  </thead>\n",
       "  <tbody>\n",
       "    <tr>\n",
       "      <th>235 PROYECTOS, S.A. DE C.V.</th>\n",
       "      <td>NaN</td>\n",
       "      <td>NaN</td>\n",
       "      <td>1649292.36</td>\n",
       "      <td>NaN</td>\n",
       "      <td>NaN</td>\n",
       "    </tr>\n",
       "    <tr>\n",
       "      <th>ABC Y CONSTRUCCIONES, SA. DE CV.</th>\n",
       "      <td>NaN</td>\n",
       "      <td>1311087.9</td>\n",
       "      <td>NaN</td>\n",
       "      <td>NaN</td>\n",
       "      <td>NaN</td>\n",
       "    </tr>\n",
       "    <tr>\n",
       "      <th>ACEROS Y OVEROLLINGS DE MEXICO, SA. DE CV.</th>\n",
       "      <td>NaN</td>\n",
       "      <td>NaN</td>\n",
       "      <td>5914.30</td>\n",
       "      <td>NaN</td>\n",
       "      <td>NaN</td>\n",
       "    </tr>\n",
       "    <tr>\n",
       "      <th>ADQUISICIONES INTELIGENTES, S.A. DE C.V.</th>\n",
       "      <td>NaN</td>\n",
       "      <td>2132196.0</td>\n",
       "      <td>NaN</td>\n",
       "      <td>NaN</td>\n",
       "      <td>NaN</td>\n",
       "    </tr>\n",
       "    <tr>\n",
       "      <th>ALIANZA AUTOMOTRIZ RIVERO, SA. DE CV.</th>\n",
       "      <td>NaN</td>\n",
       "      <td>NaN</td>\n",
       "      <td>450859.52</td>\n",
       "      <td>NaN</td>\n",
       "      <td>NaN</td>\n",
       "    </tr>\n",
       "    <tr>\n",
       "      <th>...</th>\n",
       "      <td>...</td>\n",
       "      <td>...</td>\n",
       "      <td>...</td>\n",
       "      <td>...</td>\n",
       "      <td>...</td>\n",
       "    </tr>\n",
       "    <tr>\n",
       "      <th>VILLARREAL CARDENAS JUAN IGNACIO</th>\n",
       "      <td>NaN</td>\n",
       "      <td>NaN</td>\n",
       "      <td>NaN</td>\n",
       "      <td>NaN</td>\n",
       "      <td>3733.13</td>\n",
       "    </tr>\n",
       "    <tr>\n",
       "      <th>VILLARREAL CARDENAS NANCY ESTHER</th>\n",
       "      <td>NaN</td>\n",
       "      <td>NaN</td>\n",
       "      <td>NaN</td>\n",
       "      <td>NaN</td>\n",
       "      <td>81461.14</td>\n",
       "    </tr>\n",
       "    <tr>\n",
       "      <th>VILLARREAL DE LEON BERTHA</th>\n",
       "      <td>NaN</td>\n",
       "      <td>NaN</td>\n",
       "      <td>11004.05</td>\n",
       "      <td>NaN</td>\n",
       "      <td>NaN</td>\n",
       "    </tr>\n",
       "    <tr>\n",
       "      <th>VIVERO EL ESCORIAL, S.A. DE C.V.</th>\n",
       "      <td>NaN</td>\n",
       "      <td>NaN</td>\n",
       "      <td>2511255.46</td>\n",
       "      <td>NaN</td>\n",
       "      <td>NaN</td>\n",
       "    </tr>\n",
       "    <tr>\n",
       "      <th>ZAPATA CHAVIRA HOMERO ARTURO</th>\n",
       "      <td>NaN</td>\n",
       "      <td>NaN</td>\n",
       "      <td>NaN</td>\n",
       "      <td>28350.0</td>\n",
       "      <td>NaN</td>\n",
       "    </tr>\n",
       "  </tbody>\n",
       "</table>\n",
       "<p>301 rows × 5 columns</p>\n",
       "</div>"
      ],
      "text/plain": [
       "SHEET                                       COMUNICACION  \\\n",
       "BENEFICIARIO                                               \n",
       "235 PROYECTOS, S.A. DE C.V.                          NaN   \n",
       "ABC Y CONSTRUCCIONES, SA. DE CV.                     NaN   \n",
       "ACEROS Y OVEROLLINGS DE MEXICO, SA. DE CV.           NaN   \n",
       "ADQUISICIONES INTELIGENTES, S.A. DE C.V.             NaN   \n",
       "ALIANZA AUTOMOTRIZ RIVERO, SA. DE CV.                NaN   \n",
       "...                                                  ...   \n",
       "VILLARREAL CARDENAS JUAN IGNACIO                     NaN   \n",
       "VILLARREAL CARDENAS NANCY ESTHER                     NaN   \n",
       "VILLARREAL DE LEON BERTHA                            NaN   \n",
       "VIVERO EL ESCORIAL, S.A. DE C.V.                     NaN   \n",
       "ZAPATA CHAVIRA HOMERO ARTURO                         NaN   \n",
       "\n",
       "SHEET                                       CONTRATISTAS Y FDO FED  \\\n",
       "BENEFICIARIO                                                         \n",
       "235 PROYECTOS, S.A. DE C.V.                                    NaN   \n",
       "ABC Y CONSTRUCCIONES, SA. DE CV.                         1311087.9   \n",
       "ACEROS Y OVEROLLINGS DE MEXICO, SA. DE CV.                     NaN   \n",
       "ADQUISICIONES INTELIGENTES, S.A. DE C.V.                 2132196.0   \n",
       "ALIANZA AUTOMOTRIZ RIVERO, SA. DE CV.                          NaN   \n",
       "...                                                            ...   \n",
       "VILLARREAL CARDENAS JUAN IGNACIO                               NaN   \n",
       "VILLARREAL CARDENAS NANCY ESTHER                               NaN   \n",
       "VILLARREAL DE LEON BERTHA                                      NaN   \n",
       "VIVERO EL ESCORIAL, S.A. DE C.V.                               NaN   \n",
       "ZAPATA CHAVIRA HOMERO ARTURO                                   NaN   \n",
       "\n",
       "SHEET                                       GASTOS VARIOS  SERV PPROF  \\\n",
       "BENEFICIARIO                                                            \n",
       "235 PROYECTOS, S.A. DE C.V.                    1649292.36         NaN   \n",
       "ABC Y CONSTRUCCIONES, SA. DE CV.                      NaN         NaN   \n",
       "ACEROS Y OVEROLLINGS DE MEXICO, SA. DE CV.        5914.30         NaN   \n",
       "ADQUISICIONES INTELIGENTES, S.A. DE C.V.              NaN         NaN   \n",
       "ALIANZA AUTOMOTRIZ RIVERO, SA. DE CV.           450859.52         NaN   \n",
       "...                                                   ...         ...   \n",
       "VILLARREAL CARDENAS JUAN IGNACIO                      NaN         NaN   \n",
       "VILLARREAL CARDENAS NANCY ESTHER                      NaN         NaN   \n",
       "VILLARREAL DE LEON BERTHA                        11004.05         NaN   \n",
       "VIVERO EL ESCORIAL, S.A. DE C.V.               2511255.46         NaN   \n",
       "ZAPATA CHAVIRA HOMERO ARTURO                          NaN     28350.0   \n",
       "\n",
       "SHEET                                       SERV. PERS.  \n",
       "BENEFICIARIO                                             \n",
       "235 PROYECTOS, S.A. DE C.V.                         NaN  \n",
       "ABC Y CONSTRUCCIONES, SA. DE CV.                    NaN  \n",
       "ACEROS Y OVEROLLINGS DE MEXICO, SA. DE CV.          NaN  \n",
       "ADQUISICIONES INTELIGENTES, S.A. DE C.V.            NaN  \n",
       "ALIANZA AUTOMOTRIZ RIVERO, SA. DE CV.               NaN  \n",
       "...                                                 ...  \n",
       "VILLARREAL CARDENAS JUAN IGNACIO                3733.13  \n",
       "VILLARREAL CARDENAS NANCY ESTHER               81461.14  \n",
       "VILLARREAL DE LEON BERTHA                           NaN  \n",
       "VIVERO EL ESCORIAL, S.A. DE C.V.                    NaN  \n",
       "ZAPATA CHAVIRA HOMERO ARTURO                        NaN  \n",
       "\n",
       "[301 rows x 5 columns]"
      ]
     },
     "execution_count": 41,
     "metadata": {},
     "output_type": "execute_result"
    }
   ],
   "source": [
    "compras_sheet_beneficiario"
   ]
  },
  {
   "cell_type": "code",
   "execution_count": 43,
   "id": "d0f8d9fa-0085-49a0-a4d4-aa3bfa7e7a6e",
   "metadata": {},
   "outputs": [],
   "source": [
    "top_beneficiarios = compras_df.groupby('BENEFICIARIO')['IMPORTE'].sum().sort_values(ascending=False).index[0:10]"
   ]
  },
  {
   "cell_type": "code",
   "execution_count": 44,
   "id": "e273c49c-5933-427e-9b98-660ff2d0d081",
   "metadata": {},
   "outputs": [
    {
     "data": {
      "text/html": [
       "<div>\n",
       "<style scoped>\n",
       "    .dataframe tbody tr th:only-of-type {\n",
       "        vertical-align: middle;\n",
       "    }\n",
       "\n",
       "    .dataframe tbody tr th {\n",
       "        vertical-align: top;\n",
       "    }\n",
       "\n",
       "    .dataframe thead th {\n",
       "        text-align: right;\n",
       "    }\n",
       "</style>\n",
       "<table border=\"1\" class=\"dataframe\">\n",
       "  <thead>\n",
       "    <tr style=\"text-align: right;\">\n",
       "      <th>SHEET</th>\n",
       "      <th>COMUNICACION</th>\n",
       "      <th>CONTRATISTAS Y FDO FED</th>\n",
       "      <th>GASTOS VARIOS</th>\n",
       "      <th>SERV PPROF</th>\n",
       "      <th>SERV. PERS.</th>\n",
       "    </tr>\n",
       "    <tr>\n",
       "      <th>BENEFICIARIO</th>\n",
       "      <th></th>\n",
       "      <th></th>\n",
       "      <th></th>\n",
       "      <th></th>\n",
       "      <th></th>\n",
       "    </tr>\n",
       "  </thead>\n",
       "  <tbody>\n",
       "    <tr>\n",
       "      <th>MUNICIPIO DE LA CIUDAD DE MONTERREY</th>\n",
       "      <td>NaN</td>\n",
       "      <td>3.412500e+04</td>\n",
       "      <td>2.526895e+08</td>\n",
       "      <td>NaN</td>\n",
       "      <td>NaN</td>\n",
       "    </tr>\n",
       "    <tr>\n",
       "      <th>INTEGRACION DE SISTEMAS DE AVANZADA TECNOLOGIA, S.A. DE C.V.</th>\n",
       "      <td>NaN</td>\n",
       "      <td>1.281179e+08</td>\n",
       "      <td>7.493040e+06</td>\n",
       "      <td>NaN</td>\n",
       "      <td>NaN</td>\n",
       "    </tr>\n",
       "    <tr>\n",
       "      <th>VALUE ARRENDADORA,S.A.DE C.V. SOFOM ER VALUE GPO.FIN.</th>\n",
       "      <td>NaN</td>\n",
       "      <td>NaN</td>\n",
       "      <td>4.382056e+07</td>\n",
       "      <td>NaN</td>\n",
       "      <td>NaN</td>\n",
       "    </tr>\n",
       "    <tr>\n",
       "      <th>CAR ONE MONTERREY, S.A. DE C.V.</th>\n",
       "      <td>NaN</td>\n",
       "      <td>2.229764e+07</td>\n",
       "      <td>8.346672e+06</td>\n",
       "      <td>NaN</td>\n",
       "      <td>NaN</td>\n",
       "    </tr>\n",
       "    <tr>\n",
       "      <th>BANCO BANCREA,S.A. ,FIDEICOMISO NUMERO BP417</th>\n",
       "      <td>NaN</td>\n",
       "      <td>NaN</td>\n",
       "      <td>3.000000e+07</td>\n",
       "      <td>NaN</td>\n",
       "      <td>NaN</td>\n",
       "    </tr>\n",
       "    <tr>\n",
       "      <th>SI VALE MEXICO, S.A. DE C.V.</th>\n",
       "      <td>NaN</td>\n",
       "      <td>NaN</td>\n",
       "      <td>2.600384e+07</td>\n",
       "      <td>NaN</td>\n",
       "      <td>NaN</td>\n",
       "    </tr>\n",
       "    <tr>\n",
       "      <th>INTERASFALTOS, S.A. DE C.V.</th>\n",
       "      <td>NaN</td>\n",
       "      <td>NaN</td>\n",
       "      <td>2.404647e+07</td>\n",
       "      <td>NaN</td>\n",
       "      <td>NaN</td>\n",
       "    </tr>\n",
       "    <tr>\n",
       "      <th>RED RECOLECTOR, S.A. DE C.V.</th>\n",
       "      <td>NaN</td>\n",
       "      <td>1.951267e+07</td>\n",
       "      <td>NaN</td>\n",
       "      <td>NaN</td>\n",
       "      <td>NaN</td>\n",
       "    </tr>\n",
       "    <tr>\n",
       "      <th>SERVICIOS BROXEL, S.A.P.I. DE C.V.</th>\n",
       "      <td>NaN</td>\n",
       "      <td>NaN</td>\n",
       "      <td>1.941272e+07</td>\n",
       "      <td>NaN</td>\n",
       "      <td>NaN</td>\n",
       "    </tr>\n",
       "    <tr>\n",
       "      <th>PROYECTOS Y DESARROLLOS SALVE, SA. DE CV.</th>\n",
       "      <td>NaN</td>\n",
       "      <td>1.888003e+07</td>\n",
       "      <td>NaN</td>\n",
       "      <td>NaN</td>\n",
       "      <td>NaN</td>\n",
       "    </tr>\n",
       "  </tbody>\n",
       "</table>\n",
       "</div>"
      ],
      "text/plain": [
       "SHEET                                               COMUNICACION  \\\n",
       "BENEFICIARIO                                                       \n",
       "MUNICIPIO DE LA CIUDAD DE MONTERREY                          NaN   \n",
       "INTEGRACION DE SISTEMAS DE AVANZADA TECNOLOGIA,...           NaN   \n",
       "VALUE ARRENDADORA,S.A.DE C.V. SOFOM ER VALUE GP...           NaN   \n",
       "CAR ONE MONTERREY, S.A. DE C.V.                              NaN   \n",
       "BANCO BANCREA,S.A. ,FIDEICOMISO NUMERO BP417                 NaN   \n",
       "SI VALE MEXICO, S.A. DE C.V.                                 NaN   \n",
       "INTERASFALTOS, S.A. DE C.V.                                  NaN   \n",
       "RED RECOLECTOR, S.A. DE C.V.                                 NaN   \n",
       "SERVICIOS BROXEL, S.A.P.I. DE C.V.                           NaN   \n",
       "PROYECTOS Y DESARROLLOS SALVE, SA. DE CV.                    NaN   \n",
       "\n",
       "SHEET                                               CONTRATISTAS Y FDO FED  \\\n",
       "BENEFICIARIO                                                                 \n",
       "MUNICIPIO DE LA CIUDAD DE MONTERREY                           3.412500e+04   \n",
       "INTEGRACION DE SISTEMAS DE AVANZADA TECNOLOGIA,...            1.281179e+08   \n",
       "VALUE ARRENDADORA,S.A.DE C.V. SOFOM ER VALUE GP...                     NaN   \n",
       "CAR ONE MONTERREY, S.A. DE C.V.                               2.229764e+07   \n",
       "BANCO BANCREA,S.A. ,FIDEICOMISO NUMERO BP417                           NaN   \n",
       "SI VALE MEXICO, S.A. DE C.V.                                           NaN   \n",
       "INTERASFALTOS, S.A. DE C.V.                                            NaN   \n",
       "RED RECOLECTOR, S.A. DE C.V.                                  1.951267e+07   \n",
       "SERVICIOS BROXEL, S.A.P.I. DE C.V.                                     NaN   \n",
       "PROYECTOS Y DESARROLLOS SALVE, SA. DE CV.                     1.888003e+07   \n",
       "\n",
       "SHEET                                               GASTOS VARIOS  SERV PPROF  \\\n",
       "BENEFICIARIO                                                                    \n",
       "MUNICIPIO DE LA CIUDAD DE MONTERREY                  2.526895e+08         NaN   \n",
       "INTEGRACION DE SISTEMAS DE AVANZADA TECNOLOGIA,...   7.493040e+06         NaN   \n",
       "VALUE ARRENDADORA,S.A.DE C.V. SOFOM ER VALUE GP...   4.382056e+07         NaN   \n",
       "CAR ONE MONTERREY, S.A. DE C.V.                      8.346672e+06         NaN   \n",
       "BANCO BANCREA,S.A. ,FIDEICOMISO NUMERO BP417         3.000000e+07         NaN   \n",
       "SI VALE MEXICO, S.A. DE C.V.                         2.600384e+07         NaN   \n",
       "INTERASFALTOS, S.A. DE C.V.                          2.404647e+07         NaN   \n",
       "RED RECOLECTOR, S.A. DE C.V.                                  NaN         NaN   \n",
       "SERVICIOS BROXEL, S.A.P.I. DE C.V.                   1.941272e+07         NaN   \n",
       "PROYECTOS Y DESARROLLOS SALVE, SA. DE CV.                     NaN         NaN   \n",
       "\n",
       "SHEET                                               SERV. PERS.  \n",
       "BENEFICIARIO                                                     \n",
       "MUNICIPIO DE LA CIUDAD DE MONTERREY                         NaN  \n",
       "INTEGRACION DE SISTEMAS DE AVANZADA TECNOLOGIA,...          NaN  \n",
       "VALUE ARRENDADORA,S.A.DE C.V. SOFOM ER VALUE GP...          NaN  \n",
       "CAR ONE MONTERREY, S.A. DE C.V.                             NaN  \n",
       "BANCO BANCREA,S.A. ,FIDEICOMISO NUMERO BP417                NaN  \n",
       "SI VALE MEXICO, S.A. DE C.V.                                NaN  \n",
       "INTERASFALTOS, S.A. DE C.V.                                 NaN  \n",
       "RED RECOLECTOR, S.A. DE C.V.                                NaN  \n",
       "SERVICIOS BROXEL, S.A.P.I. DE C.V.                          NaN  \n",
       "PROYECTOS Y DESARROLLOS SALVE, SA. DE CV.                   NaN  "
      ]
     },
     "execution_count": 44,
     "metadata": {},
     "output_type": "execute_result"
    }
   ],
   "source": [
    "compras_sheet_beneficiario.loc[top_beneficiarios]"
   ]
  },
  {
   "cell_type": "code",
   "execution_count": 45,
   "id": "0a8af0eb-b16b-4f0c-90bc-a2d551430169",
   "metadata": {},
   "outputs": [
    {
     "data": {
      "text/plain": [
       "<AxesSubplot:xlabel='BENEFICIARIO'>"
      ]
     },
     "execution_count": 45,
     "metadata": {},
     "output_type": "execute_result"
    },
    {
     "data": {
      "image/png": "[encoded data removed]",
      "text/plain": [
       "<Figure size 432x288 with 1 Axes>"
      ]
     },
     "metadata": {
      "needs_background": "light"
     },
     "output_type": "display_data"
    }
   ],
   "source": [
    "compras_sheet_beneficiario.loc[top_beneficiarios].plot.bar(stacked=True)"
   ]
  },
  {
   "cell_type": "markdown",
   "id": "fb600efe-7247-4edb-a6b5-760118bb7ec0",
   "metadata": {},
   "source": [
    "### Análisis de texto"
   ]
  },
  {
   "cell_type": "code",
   "execution_count": 54,
   "id": "2e7331ac-fff8-4bba-be77-5cecc96c290b",
   "metadata": {},
   "outputs": [
    {
     "name": "stderr",
     "output_type": "stream",
     "text": [
      "[nltk_data] Downloading collection 'book'\n",
      "[nltk_data]    | \n",
      "[nltk_data]    | Downloading package abc to\n",
      "[nltk_data]    |     C:\\Users\\Alberto\\AppData\\Roaming\\nltk_data...\n",
      "[nltk_data]    |   Unzipping corpora\\abc.zip.\n",
      "[nltk_data]    | Downloading package brown to\n",
      "[nltk_data]    |     C:\\Users\\Alberto\\AppData\\Roaming\\nltk_data...\n",
      "[nltk_data]    |   Unzipping corpora\\brown.zip.\n",
      "[nltk_data]    | Downloading package chat80 to\n",
      "[nltk_data]    |     C:\\Users\\Alberto\\AppData\\Roaming\\nltk_data...\n",
      "[nltk_data]    |   Unzipping corpora\\chat80.zip.\n",
      "[nltk_data]    | Downloading package cmudict to\n",
      "[nltk_data]    |     C:\\Users\\Alberto\\AppData\\Roaming\\nltk_data...\n",
      "[nltk_data]    |   Unzipping corpora\\cmudict.zip.\n",
      "[nltk_data]    | Downloading package conll2000 to\n",
      "[nltk_data]    |     C:\\Users\\Alberto\\AppData\\Roaming\\nltk_data...\n",
      "[nltk_data]    |   Unzipping corpora\\conll2000.zip.\n",
      "[nltk_data]    | Downloading package conll2002 to\n",
      "[nltk_data]    |     C:\\Users\\Alberto\\AppData\\Roaming\\nltk_data...\n",
      "[nltk_data]    |   Unzipping corpora\\conll2002.zip.\n",
      "[nltk_data]    | Downloading package dependency_treebank to\n",
      "[nltk_data]    |     C:\\Users\\Alberto\\AppData\\Roaming\\nltk_data...\n",
      "[nltk_data]    |   Unzipping corpora\\dependency_treebank.zip.\n",
      "[nltk_data]    | Downloading package genesis to\n",
      "[nltk_data]    |     C:\\Users\\Alberto\\AppData\\Roaming\\nltk_data...\n",
      "[nltk_data]    |   Unzipping corpora\\genesis.zip.\n",
      "[nltk_data]    | Downloading package gutenberg to\n",
      "[nltk_data]    |     C:\\Users\\Alberto\\AppData\\Roaming\\nltk_data...\n",
      "[nltk_data]    |   Unzipping corpora\\gutenberg.zip.\n",
      "[nltk_data]    | Downloading package ieer to\n",
      "[nltk_data]    |     C:\\Users\\Alberto\\AppData\\Roaming\\nltk_data...\n",
      "[nltk_data]    |   Unzipping corpora\\ieer.zip.\n",
      "[nltk_data]    | Downloading package inaugural to\n",
      "[nltk_data]    |     C:\\Users\\Alberto\\AppData\\Roaming\\nltk_data...\n",
      "[nltk_data]    |   Unzipping corpora\\inaugural.zip.\n",
      "[nltk_data]    | Downloading package movie_reviews to\n",
      "[nltk_data]    |     C:\\Users\\Alberto\\AppData\\Roaming\\nltk_data...\n",
      "[nltk_data]    |   Unzipping corpora\\movie_reviews.zip.\n",
      "[nltk_data]    | Downloading package nps_chat to\n",
      "[nltk_data]    |     C:\\Users\\Alberto\\AppData\\Roaming\\nltk_data...\n",
      "[nltk_data]    |   Unzipping corpora\\nps_chat.zip.\n",
      "[nltk_data]    | Downloading package names to\n",
      "[nltk_data]    |     C:\\Users\\Alberto\\AppData\\Roaming\\nltk_data...\n",
      "[nltk_data]    |   Unzipping corpora\\names.zip.\n",
      "[nltk_data]    | Downloading package ppattach to\n",
      "[nltk_data]    |     C:\\Users\\Alberto\\AppData\\Roaming\\nltk_data...\n",
      "[nltk_data]    |   Unzipping corpora\\ppattach.zip.\n",
      "[nltk_data]    | Downloading package reuters to\n",
      "[nltk_data]    |     C:\\Users\\Alberto\\AppData\\Roaming\\nltk_data...\n",
      "[nltk_data]    | Downloading package senseval to\n",
      "[nltk_data]    |     C:\\Users\\Alberto\\AppData\\Roaming\\nltk_data...\n",
      "[nltk_data]    |   Unzipping corpora\\senseval.zip.\n",
      "[nltk_data]    | Downloading package state_union to\n",
      "[nltk_data]    |     C:\\Users\\Alberto\\AppData\\Roaming\\nltk_data...\n",
      "[nltk_data]    |   Unzipping corpora\\state_union.zip.\n",
      "[nltk_data]    | Downloading package stopwords to\n",
      "[nltk_data]    |     C:\\Users\\Alberto\\AppData\\Roaming\\nltk_data...\n",
      "[nltk_data]    |   Unzipping corpora\\stopwords.zip.\n",
      "[nltk_data]    | Downloading package swadesh to\n",
      "[nltk_data]    |     C:\\Users\\Alberto\\AppData\\Roaming\\nltk_data...\n",
      "[nltk_data]    |   Unzipping corpora\\swadesh.zip.\n",
      "[nltk_data]    | Downloading package timit to\n",
      "[nltk_data]    |     C:\\Users\\Alberto\\AppData\\Roaming\\nltk_data...\n",
      "[nltk_data]    |   Unzipping corpora\\timit.zip.\n",
      "[nltk_data]    | Downloading package treebank to\n",
      "[nltk_data]    |     C:\\Users\\Alberto\\AppData\\Roaming\\nltk_data...\n",
      "[nltk_data]    |   Unzipping corpora\\treebank.zip.\n",
      "[nltk_data]    | Downloading package toolbox to\n",
      "[nltk_data]    |     C:\\Users\\Alberto\\AppData\\Roaming\\nltk_data...\n",
      "[nltk_data]    |   Unzipping corpora\\toolbox.zip.\n",
      "[nltk_data]    | Downloading package udhr to\n",
      "[nltk_data]    |     C:\\Users\\Alberto\\AppData\\Roaming\\nltk_data...\n",
      "[nltk_data]    |   Unzipping corpora\\udhr.zip.\n",
      "[nltk_data]    | Downloading package udhr2 to\n",
      "[nltk_data]    |     C:\\Users\\Alberto\\AppData\\Roaming\\nltk_data...\n",
      "[nltk_data]    |   Unzipping corpora\\udhr2.zip.\n",
      "[nltk_data]    | Downloading package unicode_samples to\n",
      "[nltk_data]    |     C:\\Users\\Alberto\\AppData\\Roaming\\nltk_data...\n",
      "[nltk_data]    |   Unzipping corpora\\unicode_samples.zip.\n",
      "[nltk_data]    | Downloading package webtext to\n",
      "[nltk_data]    |     C:\\Users\\Alberto\\AppData\\Roaming\\nltk_data...\n",
      "[nltk_data]    |   Unzipping corpora\\webtext.zip.\n",
      "[nltk_data]    | Downloading package wordnet to\n",
      "[nltk_data]    |     C:\\Users\\Alberto\\AppData\\Roaming\\nltk_data...\n",
      "[nltk_data]    | Downloading package wordnet_ic to\n",
      "[nltk_data]    |     C:\\Users\\Alberto\\AppData\\Roaming\\nltk_data...\n",
      "[nltk_data]    |   Unzipping corpora\\wordnet_ic.zip.\n",
      "[nltk_data]    | Downloading package words to\n",
      "[nltk_data]    |     C:\\Users\\Alberto\\AppData\\Roaming\\nltk_data...\n",
      "[nltk_data]    |   Unzipping corpora\\words.zip.\n",
      "[nltk_data]    | Downloading package maxent_treebank_pos_tagger to\n",
      "[nltk_data]    |     C:\\Users\\Alberto\\AppData\\Roaming\\nltk_data...\n",
      "[nltk_data]    |   Unzipping taggers\\maxent_treebank_pos_tagger.zip.\n",
      "[nltk_data]    | Downloading package maxent_ne_chunker to\n",
      "[nltk_data]    |     C:\\Users\\Alberto\\AppData\\Roaming\\nltk_data...\n",
      "[nltk_data]    |   Unzipping chunkers\\maxent_ne_chunker.zip.\n",
      "[nltk_data]    | Downloading package universal_tagset to\n",
      "[nltk_data]    |     C:\\Users\\Alberto\\AppData\\Roaming\\nltk_data...\n",
      "[nltk_data]    |   Unzipping taggers\\universal_tagset.zip.\n",
      "[nltk_data]    | Downloading package punkt to\n",
      "[nltk_data]    |     C:\\Users\\Alberto\\AppData\\Roaming\\nltk_data...\n",
      "[nltk_data]    |   Unzipping tokenizers\\punkt.zip.\n",
      "[nltk_data]    | Downloading package book_grammars to\n",
      "[nltk_data]    |     C:\\Users\\Alberto\\AppData\\Roaming\\nltk_data...\n",
      "[nltk_data]    |   Unzipping grammars\\book_grammars.zip.\n",
      "[nltk_data]    | Downloading package city_database to\n",
      "[nltk_data]    |     C:\\Users\\Alberto\\AppData\\Roaming\\nltk_data...\n",
      "[nltk_data]    |   Unzipping corpora\\city_database.zip.\n",
      "[nltk_data]    | Downloading package tagsets to\n",
      "[nltk_data]    |     C:\\Users\\Alberto\\AppData\\Roaming\\nltk_data...\n",
      "[nltk_data]    |   Unzipping help\\tagsets.zip.\n",
      "[nltk_data]    | Downloading package panlex_swadesh to\n",
      "[nltk_data]    |     C:\\Users\\Alberto\\AppData\\Roaming\\nltk_data...\n",
      "[nltk_data]    | Downloading package averaged_perceptron_tagger to\n",
      "[nltk_data]    |     C:\\Users\\Alberto\\AppData\\Roaming\\nltk_data...\n",
      "[nltk_data]    |   Unzipping taggers\\averaged_perceptron_tagger.zip.\n",
      "[nltk_data]    | \n",
      "[nltk_data]  Done downloading collection book\n"
     ]
    },
    {
     "data": {
      "text/plain": [
       "True"
      ]
     },
     "execution_count": 54,
     "metadata": {},
     "output_type": "execute_result"
    }
   ],
   "source": [
    "import nltk\n",
    "nltk.download('book')"
   ]
  },
  {
   "cell_type": "code",
   "execution_count": 55,
   "id": "86140bd0-a3f4-4a27-837c-13fa5e7dfa31",
   "metadata": {},
   "outputs": [
    {
     "name": "stdout",
     "output_type": "stream",
     "text": [
      "*** Introductory Examples for the NLTK Book ***\n",
      "Loading text1, ..., text9 and sent1, ..., sent9\n",
      "Type the name of the text or sentence to view it.\n",
      "Type: 'texts()' or 'sents()' to list the materials.\n",
      "text1: Moby Dick by Herman Melville 1851\n",
      "text2: Sense and Sensibility by Jane Austen 1811\n",
      "text3: The Book of Genesis\n",
      "text4: Inaugural Address Corpus\n",
      "text5: Chat Corpus\n",
      "text6: Monty Python and the Holy Grail\n",
      "text7: Wall Street Journal\n",
      "text8: Personals Corpus\n",
      "text9: The Man Who Was Thursday by G . K . Chesterton 1908\n"
     ]
    }
   ],
   "source": [
    "from nltk.book import *\n",
    "from nltk.corpus import stopwords"
   ]
  },
  {
   "cell_type": "code",
   "execution_count": 56,
   "id": "eceaad74-62bb-4434-a6cd-d213275ab16b",
   "metadata": {},
   "outputs": [
    {
     "name": "stdout",
     "output_type": "stream",
     "text": [
      "['de', 'la', 'que', 'el', 'en', 'y', 'a', 'los', 'del', 'se', 'las', 'por', 'un', 'para', 'con', 'no', 'una', 'su', 'al', 'lo', 'como', 'más', 'pero', 'sus', 'le', 'ya', 'o', 'este', 'sí', 'porque', 'esta', 'entre', 'cuando', 'muy', 'sin', 'sobre', 'también', 'me', 'hasta', 'hay', 'donde', 'quien', 'desde', 'todo', 'nos', 'durante', 'todos', 'uno', 'les', 'ni', 'contra', 'otros', 'ese', 'eso', 'ante', 'ellos', 'e', 'esto', 'mí', 'antes', 'algunos', 'qué', 'unos', 'yo', 'otro', 'otras', 'otra', 'él', 'tanto', 'esa', 'estos', 'mucho', 'quienes', 'nada', 'muchos', 'cual', 'poco', 'ella', 'estar', 'estas', 'algunas', 'algo', 'nosotros', 'mi', 'mis', 'tú', 'te', 'ti', 'tu', 'tus', 'ellas', 'nosotras', 'vosotros', 'vosotras', 'os', 'mío', 'mía', 'míos', 'mías', 'tuyo', 'tuya', 'tuyos', 'tuyas', 'suyo', 'suya', 'suyos', 'suyas', 'nuestro', 'nuestra', 'nuestros', 'nuestras', 'vuestro', 'vuestra', 'vuestros', 'vuestras', 'esos', 'esas', 'estoy', 'estás', 'está', 'estamos', 'estáis', 'están', 'esté', 'estés', 'estemos', 'estéis', 'estén', 'estaré', 'estarás', 'estará', 'estaremos', 'estaréis', 'estarán', 'estaría', 'estarías', 'estaríamos', 'estaríais', 'estarían', 'estaba', 'estabas', 'estábamos', 'estabais', 'estaban', 'estuve', 'estuviste', 'estuvo', 'estuvimos', 'estuvisteis', 'estuvieron', 'estuviera', 'estuvieras', 'estuviéramos', 'estuvierais', 'estuvieran', 'estuviese', 'estuvieses', 'estuviésemos', 'estuvieseis', 'estuviesen', 'estando', 'estado', 'estada', 'estados', 'estadas', 'estad', 'he', 'has', 'ha', 'hemos', 'habéis', 'han', 'haya', 'hayas', 'hayamos', 'hayáis', 'hayan', 'habré', 'habrás', 'habrá', 'habremos', 'habréis', 'habrán', 'habría', 'habrías', 'habríamos', 'habríais', 'habrían', 'había', 'habías', 'habíamos', 'habíais', 'habían', 'hube', 'hubiste', 'hubo', 'hubimos', 'hubisteis', 'hubieron', 'hubiera', 'hubieras', 'hubiéramos', 'hubierais', 'hubieran', 'hubiese', 'hubieses', 'hubiésemos', 'hubieseis', 'hubiesen', 'habiendo', 'habido', 'habida', 'habidos', 'habidas', 'soy', 'eres', 'es', 'somos', 'sois', 'son', 'sea', 'seas', 'seamos', 'seáis', 'sean', 'seré', 'serás', 'será', 'seremos', 'seréis', 'serán', 'sería', 'serías', 'seríamos', 'seríais', 'serían', 'era', 'eras', 'éramos', 'erais', 'eran', 'fui', 'fuiste', 'fue', 'fuimos', 'fuisteis', 'fueron', 'fuera', 'fueras', 'fuéramos', 'fuerais', 'fueran', 'fuese', 'fueses', 'fuésemos', 'fueseis', 'fuesen', 'sintiendo', 'sentido', 'sentida', 'sentidos', 'sentidas', 'siente', 'sentid', 'tengo', 'tienes', 'tiene', 'tenemos', 'tenéis', 'tienen', 'tenga', 'tengas', 'tengamos', 'tengáis', 'tengan', 'tendré', 'tendrás', 'tendrá', 'tendremos', 'tendréis', 'tendrán', 'tendría', 'tendrías', 'tendríamos', 'tendríais', 'tendrían', 'tenía', 'tenías', 'teníamos', 'teníais', 'tenían', 'tuve', 'tuviste', 'tuvo', 'tuvimos', 'tuvisteis', 'tuvieron', 'tuviera', 'tuvieras', 'tuviéramos', 'tuvierais', 'tuvieran', 'tuviese', 'tuvieses', 'tuviésemos', 'tuvieseis', 'tuviesen', 'teniendo', 'tenido', 'tenida', 'tenidos', 'tenidas', 'tened']\n"
     ]
    }
   ],
   "source": [
    "print(stopwords.words('spanish'))"
   ]
  },
  {
   "cell_type": "code",
   "execution_count": 58,
   "id": "12115d68-963a-4b5a-bd3e-a97dde8ffde0",
   "metadata": {},
   "outputs": [],
   "source": [
    "textos_compras = ''\n",
    "for row in compras_df['CONCEPTO']: textos_compras = textos_compras + ' ' + row"
   ]
  },
  {
   "cell_type": "code",
   "execution_count": 60,
   "id": "0431da99-ef78-4761-a128-a7417b575ced",
   "metadata": {},
   "outputs": [],
   "source": [
    "stopwords_list = stopwords.words('spanish') + ['2020', 'cont', 'millar', 'dpp', 'est', 'op', 'ret', 'mty', 'icom']"
   ]
  },
  {
   "cell_type": "code",
   "execution_count": 67,
   "id": "37169556-87eb-4971-8e6f-2586d238170f",
   "metadata": {},
   "outputs": [
    {
     "name": "stdout",
     "output_type": "stream",
     "text": [
      "Collecting wordcloud\n",
      "  Downloading wordcloud-1.8.2.2-cp39-cp39-win_amd64.whl (153 kB)\n",
      "Requirement already satisfied: pillow in c:\\users\\alberto\\anaconda3\\lib\\site-packages (from wordcloud) (9.0.1)\n",
      "Requirement already satisfied: matplotlib in c:\\users\\alberto\\anaconda3\\lib\\site-packages (from wordcloud) (3.5.1)\n",
      "Requirement already satisfied: numpy>=1.6.1 in c:\\users\\alberto\\anaconda3\\lib\\site-packages (from wordcloud) (1.21.5)\n",
      "Requirement already satisfied: cycler>=0.10 in c:\\users\\alberto\\anaconda3\\lib\\site-packages (from matplotlib->wordcloud) (0.11.0)\n",
      "Requirement already satisfied: kiwisolver>=1.0.1 in c:\\users\\alberto\\anaconda3\\lib\\site-packages (from matplotlib->wordcloud) (1.3.2)\n",
      "Requirement already satisfied: fonttools>=4.22.0 in c:\\users\\alberto\\anaconda3\\lib\\site-packages (from matplotlib->wordcloud) (4.25.0)\n",
      "Requirement already satisfied: python-dateutil>=2.7 in c:\\users\\alberto\\anaconda3\\lib\\site-packages (from matplotlib->wordcloud) (2.8.2)\n",
      "Requirement already satisfied: pyparsing>=2.2.1 in c:\\users\\alberto\\anaconda3\\lib\\site-packages (from matplotlib->wordcloud) (3.0.4)\n",
      "Requirement already satisfied: packaging>=20.0 in c:\\users\\alberto\\anaconda3\\lib\\site-packages (from matplotlib->wordcloud) (21.3)\n",
      "Requirement already satisfied: six>=1.5 in c:\\users\\alberto\\anaconda3\\lib\\site-packages (from python-dateutil>=2.7->matplotlib->wordcloud) (1.16.0)\n",
      "Installing collected packages: wordcloud\n",
      "Successfully installed wordcloud-1.8.2.2\n"
     ]
    }
   ],
   "source": [
    "!pip install wordcloud"
   ]
  },
  {
   "cell_type": "code",
   "execution_count": 73,
   "id": "6f34b491-c6db-4935-a1f4-cb1003928382",
   "metadata": {},
   "outputs": [],
   "source": [
    "textos_compras = ' ' .join([x for x in textos_compras.strip().lower().split(' ') if x not in stopwords_list and len(x)>4])"
   ]
  },
  {
   "cell_type": "code",
   "execution_count": 70,
   "id": "03a50058-bba2-49ce-a191-c3fcd62ac5b2",
   "metadata": {},
   "outputs": [],
   "source": [
    "from wordcloud import WordCloud\n",
    "import matplotlib.pyplot as plt"
   ]
  },
  {
   "cell_type": "code",
   "execution_count": 74,
   "id": "85892c66-95b1-4b68-aadf-88947fe5f15a",
   "metadata": {},
   "outputs": [
    {
     "data": {
      "image/png": "[encoded data removed]",
      "text/plain": [
       "<Figure size 432x288 with 1 Axes>"
      ]
     },
     "metadata": {
      "needs_background": "light"
     },
     "output_type": "display_data"
    }
   ],
   "source": [
    "wc = WordCloud(background_color = 'white')\n",
    "wc.generate(textos_compras)\n",
    "\n",
    "plt.axis('off')\n",
    "plt.imshow(wc, interpolation='bilinear')\n",
    "plt.show()"
   ]
  }
 ],
 "metadata": {
  "kernelspec": {
   "display_name": "Python 3 (ipykernel)",
   "language": "python",
   "name": "python3"
  },
  "language_info": {
   "codemirror_mode": {
    "name": "ipython",
    "version": 3
   },
   "file_extension": ".py",
   "mimetype": "text/x-python",
   "name": "python",
   "nbconvert_exporter": "python",
   "pygments_lexer": "ipython3",
   "version": "3.9.12"
  }
 },
 "nbformat": 4,
 "nbformat_minor": 5
}
